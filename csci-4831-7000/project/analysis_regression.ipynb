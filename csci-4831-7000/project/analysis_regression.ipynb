{
 "cells": [
  {
   "cell_type": "code",
   "execution_count": 68,
   "metadata": {},
   "outputs": [],
   "source": [
    "import pandas as pd\n",
    "import numpy as np\n",
    "import matplotlib.pyplot as plt\n",
    "import statsmodels.api as sm\n",
    "from statsmodels.stats import diagnostic as diag\n",
    "import math\n",
    "import os\n",
    "\n",
    "from scipy import stats\n",
    "from scipy.stats import skew\n",
    "\n",
    "from sklearn import preprocessing\n",
    "from sklearn.model_selection import train_test_split\n",
    "from sklearn.linear_model import LinearRegression\n",
    "from sklearn.metrics import mean_squared_error, r2_score, mean_absolute_error\n",
    "\n",
    "import seaborn as sns\n",
    "sns.set_style(\"whitegrid\")\n",
    "sns.set(rc={'figure.figsize':(14,9)})\n",
    "sns.set(rc={'grid.alpha':0.75})\n",
    "# sns.set(rc={'axes.facecolor':'white', 'figure.facecolor':'white'})"
   ]
  },
  {
   "cell_type": "code",
   "execution_count": 69,
   "metadata": {},
   "outputs": [],
   "source": [
    "path_notebook = os.path.abspath('analysis_regression.ipynb')\n",
    "dirname = os.path.dirname(path_notebook)"
   ]
  },
  {
   "cell_type": "markdown",
   "metadata": {},
   "source": [
    "Based on the plots in the previous notebook we can make some inferences about the data. Here we will explore them in greater detail."
   ]
  },
  {
   "cell_type": "markdown",
   "metadata": {},
   "source": [
    "## Get Data"
   ]
  },
  {
   "cell_type": "markdown",
   "metadata": {},
   "source": [
    "For the scope of this short research, I will be focusing on Folsom intersections: BoulderCreek, South, and Pine. Though mostly Folsom & BoulderCreek"
   ]
  },
  {
   "cell_type": "code",
   "execution_count": 70,
   "metadata": {},
   "outputs": [],
   "source": [
    "# 13th & Walnut START DATE: 7/25/2014 - Friday\n",
    "# df_13th_walnut = pd.read_csv(os.path.join(dirname, 'data_cleaned/thirtienth_walnut.csv'))\n",
    "# df_13th_walnut['date'] = pd.to_datetime(df_13th_walnut['date'])\n",
    "\n",
    "# Colorado & 30th START DATE: 8/1/2017 - Tuesday\n",
    "# df_colorado_30th = pd.read_csv(os.path.join(dirname, 'data_cleaned/colorado_thirtieth.csv'))\n",
    "\n",
    "# df_colorado_30th.drop(columns=['eb_pedestrains', 'wb_pedestrians',], inplace=True) # Drop Pedestrian data for now\n",
    "# df_colorado_30th['date'] = pd.to_datetime(df_colorado_30th['date'])\n",
    "\n",
    "# Folsom & BoulderCreek Path START DATE: 8/9/2011 - Friday\n",
    "df_folsom_bouldercreek = pd.read_csv(os.path.join(dirname, 'data_cleaned/folsom_bouldercreek.csv'))\n",
    "df_folsom_bouldercreek['date'] = pd.to_datetime(df_folsom_bouldercreek['date'])\n",
    "\n",
    "# Folsom & South St. START DATE: 7/20/2015 - Monday\n",
    "df_folsom_south = pd.read_csv(os.path.join(dirname, 'data_cleaned/folsom_south.csv'))\n",
    "df_folsom_south['date'] = pd.to_datetime(df_folsom_south['date'])\n",
    "\n",
    "# Folsom & Pine START DATE: 7/20/2015 - Monday\n",
    "df_folsom_pine = pd.read_csv(os.path.join(dirname, 'data_cleaned/folsom_pine.csv'))\n",
    "df_folsom_pine['date'] = pd.to_datetime(df_folsom_pine['date'])\n",
    "\n",
    "# Baseline & Inca START DATE: 3/3/2016 - Thursday\n",
    "# df_baseline_inca = pd.read_csv(os.path.join(dirname, 'data_cleaned/baseline_inca.csv'))\n",
    "# df_baseline_inca['date'] = pd.to_datetime(df_baseline_inca['date'])\n",
    "\n",
    "\n",
    "## Uncomment to view table structures\n",
    "# print('13th & Walnut')\n",
    "# print(df_13th_walnut)\n",
    "# print('Colorado & 30th')\n",
    "# print(df_colorado_30th)\n",
    "# print('Folsom & Boulder Creek Path')\n",
    "# print(df_folsom_bouldercreek)\n",
    "# print('Folsom & South St.')\n",
    "# print(df_folsom_south)\n",
    "# print('Folsom & Pine')\n",
    "# print(df_folsom_pine)\n",
    "# print('Baseline & Inca')\n",
    "# print(df_baseline_inca)"
   ]
  },
  {
   "cell_type": "code",
   "execution_count": 4,
   "metadata": {},
   "outputs": [],
   "source": [
    "# Weather Data START DATE: 1/1/2011 - Saturday\n",
    "df_weather = pd.read_csv(os.path.join(os.path.dirname(path_notebook), 'data_cleaned/weather_daily.csv'))\n",
    "df_weather['date'] = pd.to_datetime(df_weather['date'])\n",
    "\n",
    "# -998 is used to represent missing data\n",
    "df_weather = df_weather[(df_weather.tmin != -998) | (df_weather.tmax != -998)]\n",
    "\n",
    "# -999.00, -999.0, and -999 represent a trace of precipitation(less than 0.01 inches)\n",
    "# replace with 0.01\n",
    "df_weather['precip'].replace(to_replace = -999.00, value = 0.01, inplace=True)\n",
    "df_weather['snow'].replace(to_replace = -999.0, value = 0.01, inplace=True)\n",
    "df_weather['snowcover'].replace(to_replace = -999, value = 0.1, inplace=True)\n",
    "\n",
    "## Uncomment to view table structure\n",
    "# df_weather"
   ]
  },
  {
   "cell_type": "markdown",
   "metadata": {},
   "source": [
    "## Slice Data"
   ]
  },
  {
   "cell_type": "code",
   "execution_count": 5,
   "metadata": {},
   "outputs": [],
   "source": [
    "def reset_index(df):\n",
    "    df = df.reset_index()\n",
    "    return(df)"
   ]
  },
  {
   "cell_type": "code",
   "execution_count": 6,
   "metadata": {},
   "outputs": [],
   "source": [
    "##########\n",
    "# days_13th_walnut = df_13th_walnut.groupby(pd.Grouper(key='date', freq='d'))['total'].sum()\n",
    "# weeks_13th_walnut = df_13th_walnut.groupby(pd.Grouper(key='date', freq='7d'))['total'].sum()\n",
    "# months_13th_walnut = df_13th_walnut.groupby(pd.Grouper(key='date', freq='M'))['total'].sum()\n",
    "\n",
    "# Reset index from date\n",
    "# days_13th_walnut = reset_index(days_13th_walnut)\n",
    "# weeks_13th_walnut = reset_index(weeks_13th_walnut)\n",
    "# months_13th_walnut = reset_index(months_13th_walnut)\n",
    "##########\n",
    "# days_colorado_30th = df_colorado_30th.groupby(pd.Grouper(key='date', freq='d'))['total'].sum()\n",
    "# weeks_colorado_30th = df_colorado_30th.groupby(pd.Grouper(key='date', freq='7d'))['total'].sum()\n",
    "# months_colorado_30th = df_colorado_30th.groupby(pd.Grouper(key='date', freq='M'))['total'].sum()\n",
    "\n",
    "# days_colorado_30th = reset_index(days_colorado_30th)\n",
    "# weeks_colorado_30th = reset_index(weeks_colorado_30th)\n",
    "# months_colorado_30th = reset_index(months_colorado_30th)\n",
    "##########\n",
    "days_folsom_bouldercreek = df_folsom_bouldercreek.groupby(pd.Grouper(key='date', freq='d'))['total'].sum()\n",
    "# weeks_folsom_bouldercreek = df_folsom_bouldercreek.groupby(pd.Grouper(key='date', freq='7d'))['total'].sum()\n",
    "# months_folsom_bouldercreek = (df_folsom_bouldercreek.groupby(pd.Grouper(key='date', freq='M'))['total'].sum())\n",
    "\n",
    "days_folsom_bouldercreek = reset_index(days_folsom_bouldercreek)\n",
    "# weeks_folsom_bouldercreek = reset_index(weeks_folsom_bouldercreek)\n",
    "# months_folsom_bouldercreek = reset_index(months_folsom_bouldercreek)\n",
    "##########\n",
    "days_folsom_south = df_folsom_south.groupby(pd.Grouper(key='date', freq='d'))['total'].sum()\n",
    "# weeks_folsom_south = df_folsom_south.groupby(pd.Grouper(key='date', freq='7d'))['total'].sum()\n",
    "# months_folsom_south = df_folsom_south.groupby(pd.Grouper(key='date', freq='M'))['total'].sum()\n",
    "\n",
    "days_folsom_south = reset_index(days_folsom_south)\n",
    "# weeks_folsom_south = reset_index(weeks_folsom_south)\n",
    "# months_folsom_south = reset_index(months_folsom_south)\n",
    "##########\n",
    "days_folsom_pine = df_folsom_pine.groupby(pd.Grouper(key='date', freq='d'))['total'].sum()\n",
    "# weeks_folsom_pine = df_folsom_pine.groupby(pd.Grouper(key='date', freq='7d'))['total'].sum()\n",
    "# months_folsom_pine = df_folsom_pine.groupby(pd.Grouper(key='date', freq='M'))['total'].sum()\n",
    "\n",
    "days_folsom_pine = reset_index(days_folsom_pine)\n",
    "# weeks_folsom_pine = reset_index(weeks_folsom_pine)\n",
    "# months_folsom_pine = reset_index(months_folsom_pine)\n",
    "##########\n",
    "# days_baseline_inca = df_baseline_inca.groupby(pd.Grouper(key='date', freq='d'))['total'].sum()\n",
    "# weeks_baseline_inca = df_baseline_inca.groupby(pd.Grouper(key='date', freq='7d'))['total'].sum()\n",
    "# months_baseline_inca = df_baseline_inca.groupby(pd.Grouper(key='date', freq='M'))['total'].sum()\n",
    "\n",
    "# days_baseline_inca = reset_index(days_baseline_inca)\n",
    "# weeks_baseline_inca = reset_index(weeks_baseline_inca)\n",
    "# months_baseline_inca = reset_index(months_baseline_inca)"
   ]
  },
  {
   "cell_type": "code",
   "execution_count": 7,
   "metadata": {},
   "outputs": [],
   "source": [
    "weather_months = df_weather.groupby(pd.Grouper(key='date', freq='M'))['tmin', 'tmax'].mean()\n",
    "weather_months = reset_index(weather_months)\n",
    "\n",
    "weather_months.columns = ['date', 'tmin_mean', 'tmax_mean']\n",
    "# print(weather_months)"
   ]
  },
  {
   "cell_type": "markdown",
   "metadata": {},
   "source": [
    "# Exploring Folsom & BoulderCreek Path (2015-2018)"
   ]
  },
  {
   "cell_type": "markdown",
   "metadata": {},
   "source": [
    "Exploritiory Variable: Bike Count    \n",
    "Explanitory Variables: Tmax"
   ]
  },
  {
   "cell_type": "markdown",
   "metadata": {},
   "source": [
    "## Removing Incomplete Data"
   ]
  },
  {
   "cell_type": "code",
   "execution_count": 8,
   "metadata": {},
   "outputs": [],
   "source": [
    "start_year = 2015\n",
    "end_year = 2018\n",
    "\n",
    "# Slice based on start and end year\n",
    "days_folsom_bouldercreek = days_folsom_bouldercreek[(days_folsom_bouldercreek['date'].dt.year >= start_year)]\n",
    "days_folsom_bouldercreek = days_folsom_bouldercreek[(days_folsom_bouldercreek['date'].dt.year <= end_year)]\n",
    "\n",
    "# Remove weather data to line up with bike count data\n",
    "bouldercreek_weather = df_weather[(df_weather['date'].dt.year >= start_year)]\n",
    "bouldercreek_weather = bouldercreek_weather[(bouldercreek_weather['date'].dt.year <= end_year)]\n",
    "bouldercreek_weather.reset_index(inplace=True, drop=True)"
   ]
  },
  {
   "cell_type": "code",
   "execution_count": 9,
   "metadata": {
    "scrolled": false
   },
   "outputs": [],
   "source": [
    "# Merge into one Dataframe\n",
    "df_bouldercreek = days_folsom_bouldercreek.merge(bouldercreek_weather, on='date')\n",
    "df_bouldercreek['date'] = pd.to_datetime(df_bouldercreek['date'])"
   ]
  },
  {
   "cell_type": "code",
   "execution_count": 10,
   "metadata": {},
   "outputs": [
    {
     "data": {
      "text/html": [
       "<div>\n",
       "<style scoped>\n",
       "    .dataframe tbody tr th:only-of-type {\n",
       "        vertical-align: middle;\n",
       "    }\n",
       "\n",
       "    .dataframe tbody tr th {\n",
       "        vertical-align: top;\n",
       "    }\n",
       "\n",
       "    .dataframe thead th {\n",
       "        text-align: right;\n",
       "    }\n",
       "</style>\n",
       "<table border=\"1\" class=\"dataframe\">\n",
       "  <thead>\n",
       "    <tr style=\"text-align: right;\">\n",
       "      <th></th>\n",
       "      <th>total</th>\n",
       "      <th>tmax</th>\n",
       "      <th>tmin</th>\n",
       "      <th>precip</th>\n",
       "      <th>snow</th>\n",
       "      <th>snowcover</th>\n",
       "    </tr>\n",
       "  </thead>\n",
       "  <tbody>\n",
       "    <tr>\n",
       "      <td>count</td>\n",
       "      <td>1461.000000</td>\n",
       "      <td>1461.000000</td>\n",
       "      <td>1461.000000</td>\n",
       "      <td>1461.000000</td>\n",
       "      <td>1461.000000</td>\n",
       "      <td>1461.000000</td>\n",
       "    </tr>\n",
       "    <tr>\n",
       "      <td>mean</td>\n",
       "      <td>658.272416</td>\n",
       "      <td>67.160849</td>\n",
       "      <td>38.577687</td>\n",
       "      <td>0.059624</td>\n",
       "      <td>0.243847</td>\n",
       "      <td>0.561875</td>\n",
       "    </tr>\n",
       "    <tr>\n",
       "      <td>std</td>\n",
       "      <td>395.093158</td>\n",
       "      <td>17.720378</td>\n",
       "      <td>14.879802</td>\n",
       "      <td>0.194118</td>\n",
       "      <td>1.228292</td>\n",
       "      <td>1.838915</td>\n",
       "    </tr>\n",
       "    <tr>\n",
       "      <td>min</td>\n",
       "      <td>0.000000</td>\n",
       "      <td>8.000000</td>\n",
       "      <td>-10.000000</td>\n",
       "      <td>0.000000</td>\n",
       "      <td>0.000000</td>\n",
       "      <td>0.000000</td>\n",
       "    </tr>\n",
       "    <tr>\n",
       "      <td>25%</td>\n",
       "      <td>375.000000</td>\n",
       "      <td>54.000000</td>\n",
       "      <td>28.000000</td>\n",
       "      <td>0.000000</td>\n",
       "      <td>0.000000</td>\n",
       "      <td>0.000000</td>\n",
       "    </tr>\n",
       "    <tr>\n",
       "      <td>50%</td>\n",
       "      <td>638.000000</td>\n",
       "      <td>68.000000</td>\n",
       "      <td>39.000000</td>\n",
       "      <td>0.000000</td>\n",
       "      <td>0.000000</td>\n",
       "      <td>0.000000</td>\n",
       "    </tr>\n",
       "    <tr>\n",
       "      <td>75%</td>\n",
       "      <td>878.000000</td>\n",
       "      <td>82.000000</td>\n",
       "      <td>52.000000</td>\n",
       "      <td>0.010000</td>\n",
       "      <td>0.000000</td>\n",
       "      <td>0.000000</td>\n",
       "    </tr>\n",
       "    <tr>\n",
       "      <td>max</td>\n",
       "      <td>2037.000000</td>\n",
       "      <td>100.000000</td>\n",
       "      <td>72.000000</td>\n",
       "      <td>3.110000</td>\n",
       "      <td>16.400000</td>\n",
       "      <td>23.000000</td>\n",
       "    </tr>\n",
       "  </tbody>\n",
       "</table>\n",
       "</div>"
      ],
      "text/plain": [
       "             total         tmax         tmin       precip         snow  \\\n",
       "count  1461.000000  1461.000000  1461.000000  1461.000000  1461.000000   \n",
       "mean    658.272416    67.160849    38.577687     0.059624     0.243847   \n",
       "std     395.093158    17.720378    14.879802     0.194118     1.228292   \n",
       "min       0.000000     8.000000   -10.000000     0.000000     0.000000   \n",
       "25%     375.000000    54.000000    28.000000     0.000000     0.000000   \n",
       "50%     638.000000    68.000000    39.000000     0.000000     0.000000   \n",
       "75%     878.000000    82.000000    52.000000     0.010000     0.000000   \n",
       "max    2037.000000   100.000000    72.000000     3.110000    16.400000   \n",
       "\n",
       "         snowcover  \n",
       "count  1461.000000  \n",
       "mean      0.561875  \n",
       "std       1.838915  \n",
       "min       0.000000  \n",
       "25%       0.000000  \n",
       "50%       0.000000  \n",
       "75%       0.000000  \n",
       "max      23.000000  "
      ]
     },
     "execution_count": 10,
     "metadata": {},
     "output_type": "execute_result"
    }
   ],
   "source": [
    "# Remove 2013 and 2014 for abnormalalities seen in previous exploration\n",
    "df_bouldercreek = df_bouldercreek[(df_bouldercreek['date'].dt.year != 2013)]\n",
    "df_bouldercreek = df_bouldercreek[(df_bouldercreek['date'].dt.year != 2014)]\n",
    "\n",
    "df_bouldercreek.reset_index(inplace=True, drop=True)\n",
    "\n",
    "df_bouldercreek.describe()"
   ]
  },
  {
   "cell_type": "markdown",
   "metadata": {},
   "source": [
    "## The Effect of Zero"
   ]
  },
  {
   "cell_type": "code",
   "execution_count": 11,
   "metadata": {
    "scrolled": true
   },
   "outputs": [
    {
     "name": "stdout",
     "output_type": "stream",
     "text": [
      "Number of zero counts: 41\n"
     ]
    }
   ],
   "source": [
    "zero_counts = df_bouldercreek[df_bouldercreek.total == 0].shape[0]\n",
    "print('Number of zero counts: {}'.format(zero_counts))"
   ]
  },
  {
   "cell_type": "markdown",
   "metadata": {},
   "source": [
    "41 days of zero counts over 5 years does not stand out dramatically(~ 2.25%). I suspect that the number of days with true zero counts is lower than that however. Let's see where this is happening."
   ]
  },
  {
   "cell_type": "code",
   "execution_count": 12,
   "metadata": {
    "scrolled": true
   },
   "outputs": [
    {
     "name": "stdout",
     "output_type": "stream",
     "text": [
      "          date  total  tmax  tmin  precip  snow  snowcover\n",
      "0   2015-01-01      0    32     6    0.00  0.00        8.0\n",
      "1   2015-01-02      0    41     6    0.00  0.00        8.0\n",
      "12  2015-01-13      0    36    22    0.04  0.30        2.0\n",
      "13  2015-01-14      0    41    20    0.01  0.10        0.1\n",
      "14  2015-01-15      0    57    23    0.00  0.00        0.1\n",
      "15  2015-01-16      0    62    29    0.00  0.00        0.1\n",
      "16  2015-01-17      0    58    37    0.00  0.00        0.1\n",
      "17  2015-01-18      0    64    34    0.00  0.00        0.1\n",
      "18  2015-01-19      0    60    37    0.00  0.00        0.0\n",
      "19  2015-01-20      0    49    24    0.01  0.01        0.0\n",
      "20  2015-01-21      0    36    25    0.13  2.70        3.0\n",
      "21  2015-01-22      0    41     7    0.01  0.10        1.0\n",
      "22  2015-01-23      0    48    20    0.00  0.00        0.1\n",
      "23  2015-01-24      0    53    26    0.00  0.00        0.1\n",
      "24  2015-01-25      0    62    27    0.00  0.00        0.0\n",
      "25  2015-01-26      0    71    33    0.00  0.00        0.0\n",
      "26  2015-01-27      0    72    42    0.00  0.00        0.0\n",
      "27  2015-01-28      0    61    42    0.00  0.00        0.0\n",
      "28  2015-01-29      0    51    34    0.00  0.00        0.0\n",
      "29  2015-01-30      0    49    30    0.00  0.00        0.0\n",
      "30  2015-01-31      0    45    31    0.00  0.00        0.0\n",
      "31  2015-02-01      0    35    20    0.39  4.80        4.0\n",
      "32  2015-02-02      0    51    13    0.00  0.00        1.0\n",
      "39  2015-02-09      0    70    32    0.00  0.00        0.0\n",
      "59  2015-03-01      0    26    12    0.01  0.01       10.0\n",
      "60  2015-03-02      0    35    13    0.00  0.00        7.0\n",
      "90  2015-04-01      0    74    52    0.01  0.00        0.0\n",
      "91  2015-04-02      0    62    32    0.10  0.60        1.0\n",
      "104 2015-04-15      0    72    39    0.00  0.00        0.0\n",
      "120 2015-05-01      0    70    44    0.14  0.00        0.0\n",
      "121 2015-05-02      0    74    45    0.01  0.00        0.0\n",
      "151 2015-06-01      0    81    52    0.01  0.00        0.0\n",
      "181 2015-07-01      0    88    60    0.04  0.00        0.0\n",
      "182 2015-07-02      0    83    57    0.03  0.00        0.0\n",
      "212 2015-08-01      0    90    57    0.00  0.00        0.0\n",
      "243 2015-09-01      0    91    54    0.01  0.00        0.0\n",
      "273 2015-10-01      0    84    52    0.00  0.00        0.0\n",
      "304 2015-11-01      0    74    45    0.00  0.00        0.0\n",
      "334 2015-12-01      0    41    16    0.00  0.00        3.0\n",
      "364 2015-12-31      0    31     6    0.00  0.00        3.0\n",
      "788 2017-02-27      0    49    14    0.00  0.00        1.0\n"
     ]
    }
   ],
   "source": [
    "print(df_bouldercreek[df_bouldercreek.total == 0])"
   ]
  },
  {
   "cell_type": "markdown",
   "metadata": {},
   "source": [
    "As you can see, the count of 0 appears in a predicitable pattern throughout the data. It seems as though the counting mechanism is down at set times each month for some unknown reason. Not only that, it is not uncommon for it to be down for multiple days in a row. Due to the terrible performance of the model prior to removing these, I will move forward by removing all instances of 0. While this may negatively affect the model for days in which weather would accurately deter all bikers, I think it is extremely rare to have 0 bikers in an entire day. Additionally, 2013 and 2014 were removed entirely as they had an extreme number of 0 counts(204)."
   ]
  },
  {
   "cell_type": "code",
   "execution_count": 16,
   "metadata": {
    "scrolled": false
   },
   "outputs": [
    {
     "data": {
      "text/html": [
       "<div>\n",
       "<style scoped>\n",
       "    .dataframe tbody tr th:only-of-type {\n",
       "        vertical-align: middle;\n",
       "    }\n",
       "\n",
       "    .dataframe tbody tr th {\n",
       "        vertical-align: top;\n",
       "    }\n",
       "\n",
       "    .dataframe thead th {\n",
       "        text-align: right;\n",
       "    }\n",
       "</style>\n",
       "<table border=\"1\" class=\"dataframe\">\n",
       "  <thead>\n",
       "    <tr style=\"text-align: right;\">\n",
       "      <th></th>\n",
       "      <th>date</th>\n",
       "      <th>total</th>\n",
       "      <th>tmax</th>\n",
       "      <th>tmin</th>\n",
       "      <th>precip</th>\n",
       "      <th>snow</th>\n",
       "      <th>snowcover</th>\n",
       "    </tr>\n",
       "  </thead>\n",
       "  <tbody>\n",
       "    <tr>\n",
       "      <td>0</td>\n",
       "      <td>2015-01-03</td>\n",
       "      <td>47</td>\n",
       "      <td>35</td>\n",
       "      <td>15</td>\n",
       "      <td>0.03</td>\n",
       "      <td>0.70</td>\n",
       "      <td>8.0</td>\n",
       "    </tr>\n",
       "    <tr>\n",
       "      <td>1</td>\n",
       "      <td>2015-01-04</td>\n",
       "      <td>978</td>\n",
       "      <td>25</td>\n",
       "      <td>0</td>\n",
       "      <td>0.01</td>\n",
       "      <td>0.40</td>\n",
       "      <td>8.0</td>\n",
       "    </tr>\n",
       "    <tr>\n",
       "      <td>2</td>\n",
       "      <td>2015-01-05</td>\n",
       "      <td>813</td>\n",
       "      <td>56</td>\n",
       "      <td>2</td>\n",
       "      <td>0.00</td>\n",
       "      <td>0.00</td>\n",
       "      <td>5.0</td>\n",
       "    </tr>\n",
       "    <tr>\n",
       "      <td>3</td>\n",
       "      <td>2015-01-06</td>\n",
       "      <td>799</td>\n",
       "      <td>56</td>\n",
       "      <td>26</td>\n",
       "      <td>0.00</td>\n",
       "      <td>0.00</td>\n",
       "      <td>3.0</td>\n",
       "    </tr>\n",
       "    <tr>\n",
       "      <td>4</td>\n",
       "      <td>2015-01-07</td>\n",
       "      <td>841</td>\n",
       "      <td>54</td>\n",
       "      <td>14</td>\n",
       "      <td>0.03</td>\n",
       "      <td>0.60</td>\n",
       "      <td>4.0</td>\n",
       "    </tr>\n",
       "    <tr>\n",
       "      <td>...</td>\n",
       "      <td>...</td>\n",
       "      <td>...</td>\n",
       "      <td>...</td>\n",
       "      <td>...</td>\n",
       "      <td>...</td>\n",
       "      <td>...</td>\n",
       "      <td>...</td>\n",
       "    </tr>\n",
       "    <tr>\n",
       "      <td>1415</td>\n",
       "      <td>2018-12-27</td>\n",
       "      <td>163</td>\n",
       "      <td>34</td>\n",
       "      <td>18</td>\n",
       "      <td>0.01</td>\n",
       "      <td>0.01</td>\n",
       "      <td>0.0</td>\n",
       "    </tr>\n",
       "    <tr>\n",
       "      <td>1416</td>\n",
       "      <td>2018-12-28</td>\n",
       "      <td>123</td>\n",
       "      <td>23</td>\n",
       "      <td>13</td>\n",
       "      <td>0.01</td>\n",
       "      <td>0.01</td>\n",
       "      <td>0.0</td>\n",
       "    </tr>\n",
       "    <tr>\n",
       "      <td>1417</td>\n",
       "      <td>2018-12-29</td>\n",
       "      <td>99</td>\n",
       "      <td>37</td>\n",
       "      <td>5</td>\n",
       "      <td>0.01</td>\n",
       "      <td>0.01</td>\n",
       "      <td>0.0</td>\n",
       "    </tr>\n",
       "    <tr>\n",
       "      <td>1418</td>\n",
       "      <td>2018-12-30</td>\n",
       "      <td>102</td>\n",
       "      <td>50</td>\n",
       "      <td>21</td>\n",
       "      <td>0.00</td>\n",
       "      <td>0.00</td>\n",
       "      <td>0.0</td>\n",
       "    </tr>\n",
       "    <tr>\n",
       "      <td>1419</td>\n",
       "      <td>2018-12-31</td>\n",
       "      <td>10</td>\n",
       "      <td>42</td>\n",
       "      <td>9</td>\n",
       "      <td>0.13</td>\n",
       "      <td>2.60</td>\n",
       "      <td>3.0</td>\n",
       "    </tr>\n",
       "  </tbody>\n",
       "</table>\n",
       "<p>1420 rows × 7 columns</p>\n",
       "</div>"
      ],
      "text/plain": [
       "           date  total  tmax  tmin  precip  snow  snowcover\n",
       "0    2015-01-03     47    35    15    0.03  0.70        8.0\n",
       "1    2015-01-04    978    25     0    0.01  0.40        8.0\n",
       "2    2015-01-05    813    56     2    0.00  0.00        5.0\n",
       "3    2015-01-06    799    56    26    0.00  0.00        3.0\n",
       "4    2015-01-07    841    54    14    0.03  0.60        4.0\n",
       "...         ...    ...   ...   ...     ...   ...        ...\n",
       "1415 2018-12-27    163    34    18    0.01  0.01        0.0\n",
       "1416 2018-12-28    123    23    13    0.01  0.01        0.0\n",
       "1417 2018-12-29     99    37     5    0.01  0.01        0.0\n",
       "1418 2018-12-30    102    50    21    0.00  0.00        0.0\n",
       "1419 2018-12-31     10    42     9    0.13  2.60        3.0\n",
       "\n",
       "[1420 rows x 7 columns]"
      ]
     },
     "execution_count": 16,
     "metadata": {},
     "output_type": "execute_result"
    }
   ],
   "source": [
    "# Remove days with zero counts\n",
    "df_bouldercreek_clean = df_bouldercreek[df_bouldercreek.total != 0]\n",
    "\n",
    "df_bouldercreek_clean.reset_index(inplace=True, drop=True)\n",
    "df_bouldercreek_clean"
   ]
  },
  {
   "cell_type": "markdown",
   "metadata": {},
   "source": [
    "## Exploring Skew"
   ]
  },
  {
   "cell_type": "code",
   "execution_count": 18,
   "metadata": {
    "scrolled": false
   },
   "outputs": [
    {
     "data": {
      "text/plain": [
       "Text(0, 0.5, 'Frequency')"
      ]
     },
     "execution_count": 18,
     "metadata": {},
     "output_type": "execute_result"
    },
    {
     "data": {
      "image/png": "[encoded data removed]",
      "text/plain": [
       "<Figure size 864x576 with 1 Axes>"
      ]
     },
     "metadata": {},
     "output_type": "display_data"
    }
   ],
   "source": [
    "fig, axs = plt.subplots(figsize=(12, 8))\n",
    "n_bins = 40\n",
    "x_label = 'Count'\n",
    "y_label = 'Frequency'\n",
    "grid_alpha = 0.25\n",
    "\n",
    "# axs[0].hist(df_bouldercreek['total'], bins=n_bins)\n",
    "# axs[0].set_title('Daily Biker Count Before 0 Removal (2015-2018)')\n",
    "# axs[0].set_xlabel(x_label)\n",
    "# axs[0].set_ylabel(y_label)\n",
    "\n",
    "axs.hist(df_bouldercreek_clean['total'], bins=n_bins)\n",
    "axs.set_title('Daily Biker Count(2015-2018)')\n",
    "axs.set_xlabel(x_label)\n",
    "axs.set_ylabel(y_label)"
   ]
  },
  {
   "cell_type": "code",
   "execution_count": 20,
   "metadata": {
    "scrolled": false
   },
   "outputs": [
    {
     "data": {
      "text/plain": [
       "Text(0, 0.5, 'Frequency')"
      ]
     },
     "execution_count": 20,
     "metadata": {},
     "output_type": "execute_result"
    },
    {
     "data": {
      "image/png": "[encoded data removed]",
      "text/plain": [
       "<Figure size 864x576 with 1 Axes>"
      ]
     },
     "metadata": {},
     "output_type": "display_data"
    }
   ],
   "source": [
    "plt.figure(figsize=(12,8))\n",
    "\n",
    "df_bouldercreek['tmax'].hist(bins=50)\n",
    "\n",
    "plt.title('Daily Max Temperature (2012, 2014-2018)')\n",
    "plt.xlabel('Daily Max Temperature')\n",
    "plt.ylabel('Frequency')"
   ]
  },
  {
   "cell_type": "code",
   "execution_count": 21,
   "metadata": {},
   "outputs": [
    {
     "name": "stdout",
     "output_type": "stream",
     "text": [
      "Daily biker count Skew: 0.56\n",
      "Daily minimum temperature Skew: -0.39\n"
     ]
    }
   ],
   "source": [
    "bikers_skew = skew(df_bouldercreek_clean['total'])\n",
    "tmax_skew = skew(df_bouldercreek_clean['tmax'])\n",
    "\n",
    "print('Daily biker count Skew: {:.2}'.format(bikers_skew))\n",
    "print('Daily minimum temperature Skew: {:.2}'.format(tmax_skew))"
   ]
  },
  {
   "cell_type": "markdown",
   "metadata": {},
   "source": [
    "These data sets will likely need to be normilized"
   ]
  },
  {
   "cell_type": "markdown",
   "metadata": {},
   "source": [
    "## Outlier Removal"
   ]
  },
  {
   "cell_type": "code",
   "execution_count": 22,
   "metadata": {
    "scrolled": false
   },
   "outputs": [
    {
     "name": "stdout",
     "output_type": "stream",
     "text": [
      "date         2015-09-16 00:00:00\n",
      "total                       2037\n",
      "tmax                          88\n",
      "tmin                          54\n",
      "precip                         0\n",
      "snow                           0\n",
      "snowcover                      0\n",
      "Name: 222, dtype: object\n",
      "date         2015-10-09 00:00:00\n",
      "total                       1837\n",
      "tmax                          73\n",
      "tmin                          43\n",
      "precip                         0\n",
      "snow                           0\n",
      "snowcover                      0\n",
      "Name: 244, dtype: object\n"
     ]
    },
    {
     "data": {
      "text/html": [
       "<div>\n",
       "<style scoped>\n",
       "    .dataframe tbody tr th:only-of-type {\n",
       "        vertical-align: middle;\n",
       "    }\n",
       "\n",
       "    .dataframe tbody tr th {\n",
       "        vertical-align: top;\n",
       "    }\n",
       "\n",
       "    .dataframe thead th {\n",
       "        text-align: right;\n",
       "    }\n",
       "</style>\n",
       "<table border=\"1\" class=\"dataframe\">\n",
       "  <thead>\n",
       "    <tr style=\"text-align: right;\">\n",
       "      <th></th>\n",
       "      <th>date</th>\n",
       "      <th>total</th>\n",
       "      <th>tmax</th>\n",
       "      <th>tmin</th>\n",
       "      <th>precip</th>\n",
       "      <th>snow</th>\n",
       "      <th>snowcover</th>\n",
       "    </tr>\n",
       "  </thead>\n",
       "  <tbody>\n",
       "    <tr>\n",
       "      <td>0</td>\n",
       "      <td>2015-01-03</td>\n",
       "      <td>47</td>\n",
       "      <td>35</td>\n",
       "      <td>15</td>\n",
       "      <td>0.03</td>\n",
       "      <td>0.70</td>\n",
       "      <td>8.0</td>\n",
       "    </tr>\n",
       "    <tr>\n",
       "      <td>1</td>\n",
       "      <td>2015-01-04</td>\n",
       "      <td>978</td>\n",
       "      <td>25</td>\n",
       "      <td>0</td>\n",
       "      <td>0.01</td>\n",
       "      <td>0.40</td>\n",
       "      <td>8.0</td>\n",
       "    </tr>\n",
       "    <tr>\n",
       "      <td>2</td>\n",
       "      <td>2015-01-05</td>\n",
       "      <td>813</td>\n",
       "      <td>56</td>\n",
       "      <td>2</td>\n",
       "      <td>0.00</td>\n",
       "      <td>0.00</td>\n",
       "      <td>5.0</td>\n",
       "    </tr>\n",
       "    <tr>\n",
       "      <td>3</td>\n",
       "      <td>2015-01-06</td>\n",
       "      <td>799</td>\n",
       "      <td>56</td>\n",
       "      <td>26</td>\n",
       "      <td>0.00</td>\n",
       "      <td>0.00</td>\n",
       "      <td>3.0</td>\n",
       "    </tr>\n",
       "    <tr>\n",
       "      <td>4</td>\n",
       "      <td>2015-01-07</td>\n",
       "      <td>841</td>\n",
       "      <td>54</td>\n",
       "      <td>14</td>\n",
       "      <td>0.03</td>\n",
       "      <td>0.60</td>\n",
       "      <td>4.0</td>\n",
       "    </tr>\n",
       "    <tr>\n",
       "      <td>...</td>\n",
       "      <td>...</td>\n",
       "      <td>...</td>\n",
       "      <td>...</td>\n",
       "      <td>...</td>\n",
       "      <td>...</td>\n",
       "      <td>...</td>\n",
       "      <td>...</td>\n",
       "    </tr>\n",
       "    <tr>\n",
       "      <td>1413</td>\n",
       "      <td>2018-12-27</td>\n",
       "      <td>163</td>\n",
       "      <td>34</td>\n",
       "      <td>18</td>\n",
       "      <td>0.01</td>\n",
       "      <td>0.01</td>\n",
       "      <td>0.0</td>\n",
       "    </tr>\n",
       "    <tr>\n",
       "      <td>1414</td>\n",
       "      <td>2018-12-28</td>\n",
       "      <td>123</td>\n",
       "      <td>23</td>\n",
       "      <td>13</td>\n",
       "      <td>0.01</td>\n",
       "      <td>0.01</td>\n",
       "      <td>0.0</td>\n",
       "    </tr>\n",
       "    <tr>\n",
       "      <td>1415</td>\n",
       "      <td>2018-12-29</td>\n",
       "      <td>99</td>\n",
       "      <td>37</td>\n",
       "      <td>5</td>\n",
       "      <td>0.01</td>\n",
       "      <td>0.01</td>\n",
       "      <td>0.0</td>\n",
       "    </tr>\n",
       "    <tr>\n",
       "      <td>1416</td>\n",
       "      <td>2018-12-30</td>\n",
       "      <td>102</td>\n",
       "      <td>50</td>\n",
       "      <td>21</td>\n",
       "      <td>0.00</td>\n",
       "      <td>0.00</td>\n",
       "      <td>0.0</td>\n",
       "    </tr>\n",
       "    <tr>\n",
       "      <td>1417</td>\n",
       "      <td>2018-12-31</td>\n",
       "      <td>10</td>\n",
       "      <td>42</td>\n",
       "      <td>9</td>\n",
       "      <td>0.13</td>\n",
       "      <td>2.60</td>\n",
       "      <td>3.0</td>\n",
       "    </tr>\n",
       "  </tbody>\n",
       "</table>\n",
       "<p>1418 rows × 7 columns</p>\n",
       "</div>"
      ],
      "text/plain": [
       "           date  total  tmax  tmin  precip  snow  snowcover\n",
       "0    2015-01-03     47    35    15    0.03  0.70        8.0\n",
       "1    2015-01-04    978    25     0    0.01  0.40        8.0\n",
       "2    2015-01-05    813    56     2    0.00  0.00        5.0\n",
       "3    2015-01-06    799    56    26    0.00  0.00        3.0\n",
       "4    2015-01-07    841    54    14    0.03  0.60        4.0\n",
       "...         ...    ...   ...   ...     ...   ...        ...\n",
       "1413 2018-12-27    163    34    18    0.01  0.01        0.0\n",
       "1414 2018-12-28    123    23    13    0.01  0.01        0.0\n",
       "1415 2018-12-29     99    37     5    0.01  0.01        0.0\n",
       "1416 2018-12-30    102    50    21    0.00  0.00        0.0\n",
       "1417 2018-12-31     10    42     9    0.13  2.60        3.0\n",
       "\n",
       "[1418 rows x 7 columns]"
      ]
     },
     "execution_count": 22,
     "metadata": {},
     "output_type": "execute_result"
    }
   ],
   "source": [
    "# Filter Outliers\n",
    "tmp = df_bouldercreek_clean[(np.abs(stats.zscore(df_bouldercreek_clean['total'])) < 3)]\n",
    "\n",
    "# What was removed\n",
    "removed = df_bouldercreek_clean.index.difference(tmp.index)\n",
    "\n",
    "for i in removed:\n",
    "    print(df_bouldercreek_clean.loc[i])\n",
    "    \n",
    "df_bouldercreek_clean = tmp\n",
    "df_bouldercreek_clean.reset_index(inplace=True, drop=True)\n",
    "\n",
    "df_bouldercreek_clean"
   ]
  },
  {
   "cell_type": "markdown",
   "metadata": {},
   "source": [
    "Since only 2 points were detected outside of 3 standard deviations I will go ahead and remove them. This should have a positive affect on the skew of the data. After some searching I was not able to find any sort of explanation for these spikes(i.e. bike to work days.) These days may be interesting to look at in further explorations."
   ]
  },
  {
   "cell_type": "markdown",
   "metadata": {},
   "source": [
    "### Updating Skew"
   ]
  },
  {
   "cell_type": "code",
   "execution_count": 23,
   "metadata": {},
   "outputs": [
    {
     "name": "stdout",
     "output_type": "stream",
     "text": [
      "Daily biker count Skew: 0.53\n"
     ]
    }
   ],
   "source": [
    "bikers_skew2 = skew(df_bouldercreek_clean['total'])\n",
    "\n",
    "print('Daily biker count Skew: {:.2}'.format(bikers_skew2))"
   ]
  },
  {
   "cell_type": "markdown",
   "metadata": {},
   "source": [
    "As you can see these 2 points had a significant impact on the skew(0.05 decrease) of the data and thus I will leave them out. The skew is still high enough to warrant adjustments"
   ]
  },
  {
   "cell_type": "markdown",
   "metadata": {},
   "source": [
    "## Adding Day of the Week as a Feature"
   ]
  },
  {
   "cell_type": "code",
   "execution_count": 24,
   "metadata": {},
   "outputs": [
    {
     "name": "stderr",
     "output_type": "stream",
     "text": [
      "C:\\Users\\munoz\\Anaconda3\\lib\\site-packages\\ipykernel_launcher.py:2: SettingWithCopyWarning: \n",
      "A value is trying to be set on a copy of a slice from a DataFrame.\n",
      "Try using .loc[row_indexer,col_indexer] = value instead\n",
      "\n",
      "See the caveats in the documentation: http://pandas.pydata.org/pandas-docs/stable/user_guide/indexing.html#returning-a-view-versus-a-copy\n",
      "  \n"
     ]
    }
   ],
   "source": [
    "# 0-Monday, 1-Tuesday, 2-Wednesday, 3-Thursday, 4-Friday, 5-Saturday, 6-Sunday\n",
    "df_bouldercreek_clean['dayofweek'] = df_bouldercreek_clean['date'].dt.dayofweek"
   ]
  },
  {
   "cell_type": "code",
   "execution_count": 25,
   "metadata": {},
   "outputs": [
    {
     "data": {
      "text/plain": [
       "dayofweek\n",
       "0    149195\n",
       "1    149874\n",
       "2    155613\n",
       "3    152526\n",
       "4    138953\n",
       "5    104920\n",
       "6    106781\n",
       "Name: total, dtype: int64"
      ]
     },
     "execution_count": 25,
     "metadata": {},
     "output_type": "execute_result"
    }
   ],
   "source": [
    "# Counts by day of the week (2012, 2014-2018)\n",
    "df_bouldercreek_clean.groupby(['dayofweek'])['total'].sum()"
   ]
  },
  {
   "cell_type": "markdown",
   "metadata": {},
   "source": [
    "The count of bikes drops >25% on saturday and sunday, suggesting that many people are work commuters only"
   ]
  },
  {
   "cell_type": "markdown",
   "metadata": {},
   "source": [
    "## Exploring Correlation"
   ]
  },
  {
   "cell_type": "code",
   "execution_count": 26,
   "metadata": {
    "scrolled": false
   },
   "outputs": [
    {
     "data": {
      "text/html": [
       "<div>\n",
       "<style scoped>\n",
       "    .dataframe tbody tr th:only-of-type {\n",
       "        vertical-align: middle;\n",
       "    }\n",
       "\n",
       "    .dataframe tbody tr th {\n",
       "        vertical-align: top;\n",
       "    }\n",
       "\n",
       "    .dataframe thead th {\n",
       "        text-align: right;\n",
       "    }\n",
       "</style>\n",
       "<table border=\"1\" class=\"dataframe\">\n",
       "  <thead>\n",
       "    <tr style=\"text-align: right;\">\n",
       "      <th></th>\n",
       "      <th>total</th>\n",
       "      <th>tmax</th>\n",
       "      <th>tmin</th>\n",
       "      <th>precip</th>\n",
       "      <th>snow</th>\n",
       "      <th>snowcover</th>\n",
       "      <th>dayofweek</th>\n",
       "    </tr>\n",
       "  </thead>\n",
       "  <tbody>\n",
       "    <tr>\n",
       "      <td>total</td>\n",
       "      <td>1.000000</td>\n",
       "      <td>0.392215</td>\n",
       "      <td>0.358899</td>\n",
       "      <td>-0.170514</td>\n",
       "      <td>-0.205226</td>\n",
       "      <td>-0.249324</td>\n",
       "      <td>-0.222049</td>\n",
       "    </tr>\n",
       "    <tr>\n",
       "      <td>tmax</td>\n",
       "      <td>0.392215</td>\n",
       "      <td>1.000000</td>\n",
       "      <td>0.890617</td>\n",
       "      <td>-0.197196</td>\n",
       "      <td>-0.319635</td>\n",
       "      <td>-0.476324</td>\n",
       "      <td>0.004508</td>\n",
       "    </tr>\n",
       "    <tr>\n",
       "      <td>tmin</td>\n",
       "      <td>0.358899</td>\n",
       "      <td>0.890617</td>\n",
       "      <td>1.000000</td>\n",
       "      <td>-0.044057</td>\n",
       "      <td>-0.252350</td>\n",
       "      <td>-0.461541</td>\n",
       "      <td>-0.018285</td>\n",
       "    </tr>\n",
       "    <tr>\n",
       "      <td>precip</td>\n",
       "      <td>-0.170514</td>\n",
       "      <td>-0.197196</td>\n",
       "      <td>-0.044057</td>\n",
       "      <td>1.000000</td>\n",
       "      <td>0.541321</td>\n",
       "      <td>0.268217</td>\n",
       "      <td>-0.013865</td>\n",
       "    </tr>\n",
       "    <tr>\n",
       "      <td>snow</td>\n",
       "      <td>-0.205226</td>\n",
       "      <td>-0.319635</td>\n",
       "      <td>-0.252350</td>\n",
       "      <td>0.541321</td>\n",
       "      <td>1.000000</td>\n",
       "      <td>0.633644</td>\n",
       "      <td>0.010305</td>\n",
       "    </tr>\n",
       "    <tr>\n",
       "      <td>snowcover</td>\n",
       "      <td>-0.249324</td>\n",
       "      <td>-0.476324</td>\n",
       "      <td>-0.461541</td>\n",
       "      <td>0.268217</td>\n",
       "      <td>0.633644</td>\n",
       "      <td>1.000000</td>\n",
       "      <td>0.003632</td>\n",
       "    </tr>\n",
       "    <tr>\n",
       "      <td>dayofweek</td>\n",
       "      <td>-0.222049</td>\n",
       "      <td>0.004508</td>\n",
       "      <td>-0.018285</td>\n",
       "      <td>-0.013865</td>\n",
       "      <td>0.010305</td>\n",
       "      <td>0.003632</td>\n",
       "      <td>1.000000</td>\n",
       "    </tr>\n",
       "  </tbody>\n",
       "</table>\n",
       "</div>"
      ],
      "text/plain": [
       "              total      tmax      tmin    precip      snow  snowcover  \\\n",
       "total      1.000000  0.392215  0.358899 -0.170514 -0.205226  -0.249324   \n",
       "tmax       0.392215  1.000000  0.890617 -0.197196 -0.319635  -0.476324   \n",
       "tmin       0.358899  0.890617  1.000000 -0.044057 -0.252350  -0.461541   \n",
       "precip    -0.170514 -0.197196 -0.044057  1.000000  0.541321   0.268217   \n",
       "snow      -0.205226 -0.319635 -0.252350  0.541321  1.000000   0.633644   \n",
       "snowcover -0.249324 -0.476324 -0.461541  0.268217  0.633644   1.000000   \n",
       "dayofweek -0.222049  0.004508 -0.018285 -0.013865  0.010305   0.003632   \n",
       "\n",
       "           dayofweek  \n",
       "total      -0.222049  \n",
       "tmax        0.004508  \n",
       "tmin       -0.018285  \n",
       "precip     -0.013865  \n",
       "snow        0.010305  \n",
       "snowcover   0.003632  \n",
       "dayofweek   1.000000  "
      ]
     },
     "execution_count": 26,
     "metadata": {},
     "output_type": "execute_result"
    }
   ],
   "source": [
    "df_bouldercreek_clean.corr()"
   ]
  },
  {
   "cell_type": "markdown",
   "metadata": {},
   "source": [
    "The table shows there is some correlation between the total count and tmax/tmin. tmax and tmin are heavily correlated, as such we will focus on tmax. precip, snow, and snowcover have less correlation that I expected though snowcover could be significant. The day of the week has a fairly strong negative correlation due to the less activity on saturday and sunday(5 and 6)"
   ]
  },
  {
   "cell_type": "markdown",
   "metadata": {},
   "source": [
    "## Standardization"
   ]
  },
  {
   "cell_type": "code",
   "execution_count": 27,
   "metadata": {
    "scrolled": false
   },
   "outputs": [
    {
     "data": {
      "text/plain": [
       "(array([18., 28., 39., 30., 37., 34., 29., 27., 36., 41., 39., 36., 46.,\n",
       "        50., 68., 55., 54., 47., 51., 43., 68., 52., 62., 51., 57., 38.,\n",
       "        33., 28., 15., 12., 20., 20., 11., 17., 10., 10., 11.,  8.,  6.,\n",
       "         9.,  8., 11., 14.,  8., 12.,  8.,  3.,  3.,  1.,  4.]),\n",
       " array([-1.75471807, -1.6601025 , -1.56548694, -1.47087137, -1.3762558 ,\n",
       "        -1.28164023, -1.18702467, -1.0924091 , -0.99779353, -0.90317797,\n",
       "        -0.8085624 , -0.71394683, -0.61933126, -0.5247157 , -0.43010013,\n",
       "        -0.33548456, -0.240869  , -0.14625343, -0.05163786,  0.0429777 ,\n",
       "         0.13759327,  0.23220884,  0.32682441,  0.42143997,  0.51605554,\n",
       "         0.61067111,  0.70528667,  0.79990224,  0.89451781,  0.98913337,\n",
       "         1.08374894,  1.17836451,  1.27298008,  1.36759564,  1.46221121,\n",
       "         1.55682678,  1.65144234,  1.74605791,  1.84067348,  1.93528905,\n",
       "         2.02990461,  2.12452018,  2.21913575,  2.31375131,  2.40836688,\n",
       "         2.50298245,  2.59759801,  2.69221358,  2.78682915,  2.88144472,\n",
       "         2.97606028]),\n",
       " <a list of 50 Patch objects>)"
      ]
     },
     "execution_count": 27,
     "metadata": {},
     "output_type": "execute_result"
    },
    {
     "data": {
      "image/png": "[encoded data removed]",
      "text/plain": [
       "<Figure size 1008x648 with 1 Axes>"
      ]
     },
     "metadata": {},
     "output_type": "display_data"
    }
   ],
   "source": [
    "from sklearn.preprocessing import StandardScaler\n",
    "\n",
    "names = df_bouldercreek_clean.columns\n",
    "\n",
    "scaler = StandardScaler()\n",
    "\n",
    "scaled_df = scaler.fit_transform(df_bouldercreek_clean[['total']])\n",
    "plt.hist(scaled_df, bins=50)"
   ]
  },
  {
   "cell_type": "code",
   "execution_count": 28,
   "metadata": {},
   "outputs": [
    {
     "name": "stdout",
     "output_type": "stream",
     "text": [
      "Standardized daily biker count Skew: [0.53352092]\n"
     ]
    }
   ],
   "source": [
    "standard_skew = skew(scaled_df)\n",
    "print('Standardized daily biker count Skew: {}'.format(standard_skew))"
   ]
  },
  {
   "cell_type": "markdown",
   "metadata": {},
   "source": [
    "## Linear Regression Modeling"
   ]
  },
  {
   "cell_type": "code",
   "execution_count": 29,
   "metadata": {},
   "outputs": [],
   "source": [
    "# Input (X) and output (Y) variables\n",
    "X = df_bouldercreek_clean[['tmax']]\n",
    "Y = df_bouldercreek_clean[['total']]\n",
    "\n",
    "X_train, X_test, y_train, y_test = train_test_split(X, Y, test_size=0.20, random_state=1)"
   ]
  },
  {
   "cell_type": "code",
   "execution_count": 30,
   "metadata": {},
   "outputs": [
    {
     "data": {
      "text/plain": [
       "LinearRegression(copy_X=True, fit_intercept=True, n_jobs=None, normalize=False)"
      ]
     },
     "execution_count": 30,
     "metadata": {},
     "output_type": "execute_result"
    }
   ],
   "source": [
    "model_LR = LinearRegression()\n",
    "\n",
    "model_LR.fit(X_train, y_train)"
   ]
  },
  {
   "cell_type": "code",
   "execution_count": 31,
   "metadata": {},
   "outputs": [
    {
     "name": "stdout",
     "output_type": "stream",
     "text": [
      "The intercept for the model is: 107.3192407183401\n",
      "The coefficient for the model is: 8.5\n"
     ]
    }
   ],
   "source": [
    "intercept = model_LR.intercept_[0]\n",
    "coefficient = model_LR.coef_[0][0]\n",
    "\n",
    "print('The intercept for the model is: {:2}'.format(intercept))\n",
    "print('The coefficient for the model is: {:.2}'.format(coefficient))"
   ]
  },
  {
   "cell_type": "markdown",
   "metadata": {},
   "source": [
    "### Predictions"
   ]
  },
  {
   "cell_type": "code",
   "execution_count": 32,
   "metadata": {},
   "outputs": [
    {
     "data": {
      "text/plain": [
       "array([[337.19174648],\n",
       "       [422.32971157],\n",
       "       [601.11943828],\n",
       "       [447.8711011 ],\n",
       "       [609.63323478],\n",
       "       [490.44008365],\n",
       "       [456.38489761],\n",
       "       [771.39536847],\n",
       "       [337.19174648],\n",
       "       [660.71601384]])"
      ]
     },
     "execution_count": 32,
     "metadata": {},
     "output_type": "execute_result"
    }
   ],
   "source": [
    "y_predict = model_LR.predict(X_test)\n",
    "\n",
    "y_predict[:10]"
   ]
  },
  {
   "cell_type": "markdown",
   "metadata": {},
   "source": [
    "### Evaluation"
   ]
  },
  {
   "cell_type": "code",
   "execution_count": 33,
   "metadata": {},
   "outputs": [
    {
     "name": "stderr",
     "output_type": "stream",
     "text": [
      "C:\\Users\\munoz\\Anaconda3\\lib\\site-packages\\numpy\\core\\fromnumeric.py:2389: FutureWarning: Method .ptp is deprecated and will be removed in a future version. Use numpy.ptp instead.\n",
      "  return ptp(axis=axis, out=out, **kwargs)\n"
     ]
    }
   ],
   "source": [
    "X2 = sm.add_constant(X)\n",
    "\n",
    "# OLS Model for model evaluation\n",
    "model_OLS = sm.OLS(Y, X2)\n",
    "\n",
    "est = model_OLS.fit()"
   ]
  },
  {
   "cell_type": "markdown",
   "metadata": {},
   "source": [
    "### CI"
   ]
  },
  {
   "cell_type": "code",
   "execution_count": 34,
   "metadata": {},
   "outputs": [
    {
     "data": {
      "text/html": [
       "<div>\n",
       "<style scoped>\n",
       "    .dataframe tbody tr th:only-of-type {\n",
       "        vertical-align: middle;\n",
       "    }\n",
       "\n",
       "    .dataframe tbody tr th {\n",
       "        vertical-align: top;\n",
       "    }\n",
       "\n",
       "    .dataframe thead th {\n",
       "        text-align: right;\n",
       "    }\n",
       "</style>\n",
       "<table border=\"1\" class=\"dataframe\">\n",
       "  <thead>\n",
       "    <tr style=\"text-align: right;\">\n",
       "      <th></th>\n",
       "      <th>0</th>\n",
       "      <th>1</th>\n",
       "    </tr>\n",
       "  </thead>\n",
       "  <tbody>\n",
       "    <tr>\n",
       "      <td>const</td>\n",
       "      <td>31.534726</td>\n",
       "      <td>176.042266</td>\n",
       "    </tr>\n",
       "    <tr>\n",
       "      <td>tmax</td>\n",
       "      <td>7.443936</td>\n",
       "      <td>9.517701</td>\n",
       "    </tr>\n",
       "  </tbody>\n",
       "</table>\n",
       "</div>"
      ],
      "text/plain": [
       "               0           1\n",
       "const  31.534726  176.042266\n",
       "tmax    7.443936    9.517701"
      ]
     },
     "execution_count": 34,
     "metadata": {},
     "output_type": "execute_result"
    }
   ],
   "source": [
    "# 95% Confidence Interval\n",
    "est.conf_int()"
   ]
  },
  {
   "cell_type": "markdown",
   "metadata": {},
   "source": [
    "### Hypothesis Testing"
   ]
  },
  {
   "cell_type": "markdown",
   "metadata": {},
   "source": [
    "- **Null Hypothesis:** There is no relation between the daily maximum temperature and the count of bikers.  \n",
    "- **Alt Hypothesis:** There is a relationship between daily maximum temperature and the count of bikers."
   ]
  },
  {
   "cell_type": "code",
   "execution_count": 35,
   "metadata": {},
   "outputs": [
    {
     "data": {
      "text/plain": [
       "const    4.902788e-03\n",
       "tmax     2.345302e-53\n",
       "dtype: float64"
      ]
     },
     "execution_count": 35,
     "metadata": {},
     "output_type": "execute_result"
    }
   ],
   "source": [
    "est.pvalues"
   ]
  },
  {
   "cell_type": "markdown",
   "metadata": {},
   "source": [
    "With the tmin p-value being much less than 0, we can safely reject the null hypothesis and say with confidence that there is a relation between minimum daily temperature and bike count."
   ]
  },
  {
   "cell_type": "markdown",
   "metadata": {},
   "source": [
    "### Model Fittness"
   ]
  },
  {
   "cell_type": "code",
   "execution_count": 36,
   "metadata": {},
   "outputs": [
    {
     "name": "stdout",
     "output_type": "stream",
     "text": [
      "MAE: 275.1557510905626\n",
      "MSE: 122545.04863265117\n",
      "RMSE: 350.0643492740316\n"
     ]
    }
   ],
   "source": [
    "# Calculate mean absolute error\n",
    "model_mae = mean_absolute_error(y_test, y_predict)\n",
    "\n",
    "# Calculate the mean squared error\n",
    "model_mse = mean_squared_error(y_test, y_predict)\n",
    "\n",
    "# Calculate the root mean squared error\n",
    "model_rmse = math.sqrt(model_mse)\n",
    "\n",
    "print('MAE: {}'.format(model_mae))\n",
    "print('MSE: {}'.format(model_mse))\n",
    "print('RMSE: {}'.format(model_rmse))"
   ]
  },
  {
   "cell_type": "markdown",
   "metadata": {},
   "source": [
    "MSE: 162,667.17 -> 120,803.74  \n",
    "RMSE: 403.32 -> 347.57  \n",
    "After removal of zero count days and 3 outliers."
   ]
  },
  {
   "cell_type": "code",
   "execution_count": 37,
   "metadata": {},
   "outputs": [
    {
     "name": "stdout",
     "output_type": "stream",
     "text": [
      "R2: 0.15\n"
     ]
    }
   ],
   "source": [
    "model_r2 = r2_score(y_test, y_predict)\n",
    "print('R2: {:.2}'.format(model_r2))"
   ]
  },
  {
   "cell_type": "markdown",
   "metadata": {},
   "source": [
    ".05 -> .15  \n",
    "After removal of 0's and 3 outliers"
   ]
  },
  {
   "cell_type": "code",
   "execution_count": 41,
   "metadata": {
    "scrolled": false
   },
   "outputs": [
    {
     "data": {
      "text/plain": [
       "<matplotlib.legend.Legend at 0x21ac3bb7fc8>"
      ]
     },
     "execution_count": 41,
     "metadata": {},
     "output_type": "execute_result"
    },
    {
     "data": {
      "image/png": "[encoded data removed]",
      "text/plain": [
       "<Figure size 1008x648 with 1 Axes>"
      ]
     },
     "metadata": {},
     "output_type": "display_data"
    }
   ],
   "source": [
    "residuals = y_test-y_predict\n",
    "\n",
    "fig = sns.distplot(residuals, bins=25, kde=False, rug=True)\n",
    "\n",
    "fig.axvline(x=residuals['total'].mean(), color='black', linestyle='--', label='Mean: {:.4}'.format(residuals['total'].mean()))\n",
    "std = np.std(residuals['total'])\n",
    "# fig.axvline(x=std, color='red', linestyle='--', label='1 STD')\n",
    "# fig.axvline(x=-std, color='red', linestyle='--')\n",
    "\n",
    "x_ticks = np.arange(-800, 1300, step=100)\n",
    "plt.xticks(x_ticks, rotation=270)\n",
    "\n",
    "plt.title('Linear Regression Residuals', fontsize=22)\n",
    "plt.xlabel('Inaccuracy', fontsize=18)\n",
    "plt.ylabel('Frequency', fontsize=18)\n",
    "plt.legend(loc='upper right', fontsize=16)"
   ]
  },
  {
   "cell_type": "markdown",
   "metadata": {},
   "source": [
    "The model is quite inaccurate..."
   ]
  },
  {
   "cell_type": "code",
   "execution_count": 42,
   "metadata": {
    "scrolled": false
   },
   "outputs": [
    {
     "data": {
      "image/png": "[encoded data removed]",
      "text/plain": [
       "<Figure size 864x576 with 1 Axes>"
      ]
     },
     "metadata": {},
     "output_type": "display_data"
    }
   ],
   "source": [
    "fig, ax = plt.subplots(figsize=(12,8))\n",
    "\n",
    "plt.scatter(X_test, y_test, color='gray', alpha=0.25, label='Bike Count')\n",
    "plt.plot(X_test, y_predict, color='steelblue', label='Regression Line')\n",
    "\n",
    "plt.title('Linear Regression Model Tmax vs. Bike Count')\n",
    "plt.xlabel('Tmax')\n",
    "plt.ylabel('Bike Count')\n",
    "plt.legend()\n",
    "plt.show()"
   ]
  },
  {
   "cell_type": "markdown",
   "metadata": {},
   "source": [
    "Clearly Linear Regression is no ideal, MLR may prove more successfull, however, the seasonal change in bike frequency suggests that looking at time series may prove more beneficial."
   ]
  },
  {
   "cell_type": "markdown",
   "metadata": {},
   "source": [
    "## Multiple Linear Regression"
   ]
  },
  {
   "cell_type": "code",
   "execution_count": 43,
   "metadata": {},
   "outputs": [
    {
     "data": {
      "text/plain": [
       "LinearRegression(copy_X=True, fit_intercept=True, n_jobs=None, normalize=False)"
      ]
     },
     "execution_count": 43,
     "metadata": {},
     "output_type": "execute_result"
    }
   ],
   "source": [
    "# Define input (X) and output (Y)\n",
    "# Features: date, total, tmax, tmin, precip, snow, snowcover, weekday\n",
    "X1 = df_bouldercreek_clean.drop(['date', 'total', 'tmin', 'precip', 'snow', 'snowcover'], axis=1)\n",
    "Y1 = df_bouldercreek_clean[['total']]\n",
    "\n",
    "# Split dataset\n",
    "X_train1, X_test1, y_train1, y_test1 = train_test_split(X1, Y1, test_size = 0.20, random_state = 1)\n",
    "\n",
    "model_MLR = LinearRegression()\n",
    "\n",
    "model_MLR.fit(X_train1, y_train1)"
   ]
  },
  {
   "cell_type": "code",
   "execution_count": 44,
   "metadata": {},
   "outputs": [
    {
     "name": "stdout",
     "output_type": "stream",
     "text": [
      "The intercept for the model is: 228.12121130122335\n",
      "The coefficient for tmax is: 8.627068527624031\n"
     ]
    }
   ],
   "source": [
    "intercept = model_MLR.intercept_[0]\n",
    "coefficient = model_MLR.coef_[0][0]\n",
    "\n",
    "print('The intercept for the model is: {:2}'.format(intercept))\n",
    "\n",
    "for coef in zip(X.columns, model_MLR.coef_[0]):\n",
    "    print('The coefficient for {} is: {}'.format(coef[0], coef[1]))"
   ]
  },
  {
   "cell_type": "code",
   "execution_count": 45,
   "metadata": {},
   "outputs": [
    {
     "data": {
      "text/plain": [
       "array([[334.36583808],\n",
       "       [420.63652335],\n",
       "       [517.34748012],\n",
       "       [446.51772894],\n",
       "       [483.74580749]])"
      ]
     },
     "execution_count": 45,
     "metadata": {},
     "output_type": "execute_result"
    }
   ],
   "source": [
    "y_predict1 = model_MLR.predict(X_test1)\n",
    "\n",
    "y_predict1[:5]"
   ]
  },
  {
   "cell_type": "code",
   "execution_count": 46,
   "metadata": {},
   "outputs": [
    {
     "name": "stderr",
     "output_type": "stream",
     "text": [
      "C:\\Users\\munoz\\Anaconda3\\lib\\site-packages\\numpy\\core\\fromnumeric.py:2389: FutureWarning: Method .ptp is deprecated and will be removed in a future version. Use numpy.ptp instead.\n",
      "  return ptp(axis=axis, out=out, **kwargs)\n"
     ]
    }
   ],
   "source": [
    "X2 = sm.add_constant(X1)\n",
    "\n",
    "# OLS Model for model evaluation\n",
    "model_OLS = sm.OLS(Y1, X2)\n",
    "\n",
    "est = model_OLS.fit()"
   ]
  },
  {
   "cell_type": "code",
   "execution_count": 47,
   "metadata": {
    "scrolled": true
   },
   "outputs": [
    {
     "data": {
      "text/html": [
       "<div>\n",
       "<style scoped>\n",
       "    .dataframe tbody tr th:only-of-type {\n",
       "        vertical-align: middle;\n",
       "    }\n",
       "\n",
       "    .dataframe tbody tr th {\n",
       "        vertical-align: top;\n",
       "    }\n",
       "\n",
       "    .dataframe thead th {\n",
       "        text-align: right;\n",
       "    }\n",
       "</style>\n",
       "<table border=\"1\" class=\"dataframe\">\n",
       "  <thead>\n",
       "    <tr style=\"text-align: right;\">\n",
       "      <th></th>\n",
       "      <th>0</th>\n",
       "      <th>1</th>\n",
       "    </tr>\n",
       "  </thead>\n",
       "  <tbody>\n",
       "    <tr>\n",
       "      <td>const</td>\n",
       "      <td>155.661584</td>\n",
       "      <td>305.454897</td>\n",
       "    </tr>\n",
       "    <tr>\n",
       "      <td>tmax</td>\n",
       "      <td>7.496549</td>\n",
       "      <td>9.508724</td>\n",
       "    </tr>\n",
       "    <tr>\n",
       "      <td>dayofweek</td>\n",
       "      <td>-51.512117</td>\n",
       "      <td>-33.781079</td>\n",
       "    </tr>\n",
       "  </tbody>\n",
       "</table>\n",
       "</div>"
      ],
      "text/plain": [
       "                    0           1\n",
       "const      155.661584  305.454897\n",
       "tmax         7.496549    9.508724\n",
       "dayofweek  -51.512117  -33.781079"
      ]
     },
     "execution_count": 47,
     "metadata": {},
     "output_type": "execute_result"
    }
   ],
   "source": [
    "est.conf_int()"
   ]
  },
  {
   "cell_type": "code",
   "execution_count": 48,
   "metadata": {
    "scrolled": true
   },
   "outputs": [
    {
     "name": "stdout",
     "output_type": "stream",
     "text": [
      "MAE: 261.7027046961581\n",
      "MSE: 114813.79490176229\n",
      "RMSE: 338.8418434930407\n"
     ]
    }
   ],
   "source": [
    "# Calculate mean absolute error\n",
    "model_mae = mean_absolute_error(y_test1, y_predict1)\n",
    "\n",
    "# Calculate the mean squared error\n",
    "model_mse = mean_squared_error(y_test1, y_predict1)\n",
    "\n",
    "# Calculate the root mean squared error\n",
    "model_rmse = math.sqrt(model_mse)\n",
    "\n",
    "print('MAE: {}'.format(model_mae))\n",
    "print('MSE: {}'.format(model_mse))\n",
    "print('RMSE: {}'.format(model_rmse))"
   ]
  },
  {
   "cell_type": "code",
   "execution_count": 49,
   "metadata": {
    "scrolled": true
   },
   "outputs": [
    {
     "name": "stdout",
     "output_type": "stream",
     "text": [
      "R2: 0.19896890170539794\n"
     ]
    }
   ],
   "source": [
    "model_r2 = r2_score(y_test1, y_predict1)\n",
    "print('R2: {}'.format(model_r2))"
   ]
  },
  {
   "cell_type": "code",
   "execution_count": 50,
   "metadata": {},
   "outputs": [
    {
     "data": {
      "text/plain": [
       "<matplotlib.legend.Legend at 0x21ac4702a88>"
      ]
     },
     "execution_count": 50,
     "metadata": {},
     "output_type": "execute_result"
    },
    {
     "data": {
      "image/png": "[encoded data removed]",
      "text/plain": [
       "<Figure size 1008x648 with 1 Axes>"
      ]
     },
     "metadata": {},
     "output_type": "display_data"
    }
   ],
   "source": [
    "residuals1 = y_test1-y_predict1\n",
    "\n",
    "fig = sns.distplot(residuals1, bins=25, kde=False, rug=True)\n",
    "\n",
    "fig.axvline(x=residuals1['total'].mean(), color='black', linestyle='--', label='Mean: {:.4}'.format(residuals1['total'].mean()))\n",
    "std = np.std(residuals['total'])\n",
    "fig.axvline(x=std, color='red', linestyle='--', label='1 STD')\n",
    "fig.axvline(x=-std, color='red', linestyle='--')\n",
    "\n",
    "x_ticks = np.arange(-800, 1300, step=100)\n",
    "plt.xticks(x_ticks, rotation=270)\n",
    "\n",
    "plt.grid(alpha=1)\n",
    "\n",
    "plt.title('Multiple Linear Regression Residuals', fontsize=22)\n",
    "plt.xlabel('Inaccuracy', fontsize=18)\n",
    "plt.ylabel('Frequency', fontsize=18)\n",
    "plt.legend(loc='upper right', fontsize=16)"
   ]
  },
  {
   "cell_type": "markdown",
   "metadata": {},
   "source": [
    "# Exploring Folsom & South St."
   ]
  },
  {
   "cell_type": "code",
   "execution_count": 51,
   "metadata": {},
   "outputs": [],
   "source": [
    "start_year = 2016\n",
    "end_year = 2018\n",
    "\n",
    "# Slice based on start and end year\n",
    "days_folsom_south = days_folsom_south[(days_folsom_south['date'].dt.year >= start_year)]\n",
    "days_folsom_south = days_folsom_south[(days_folsom_south['date'].dt.year <= end_year)]\n",
    "\n",
    "# Remove weather data to line up with bike count data\n",
    "folsom_south_weather = df_weather[(df_weather['date'].dt.year >= start_year)]\n",
    "folsom_south_weather = folsom_south_weather[(folsom_south_weather['date'].dt.year <= end_year)]\n",
    "folsom_south_weather.reset_index(inplace=True, drop=True)"
   ]
  },
  {
   "cell_type": "code",
   "execution_count": 52,
   "metadata": {
    "scrolled": true
   },
   "outputs": [],
   "source": [
    "# Merge count and weather data\n",
    "df_south = days_folsom_south.merge(folsom_south_weather, on='date')"
   ]
  },
  {
   "cell_type": "code",
   "execution_count": 53,
   "metadata": {},
   "outputs": [
    {
     "data": {
      "text/plain": [
       "weekday\n",
       "0    104902\n",
       "1    103012\n",
       "2    112401\n",
       "3    110185\n",
       "4    101576\n",
       "5     80674\n",
       "6     77017\n",
       "Name: total, dtype: int64"
      ]
     },
     "execution_count": 53,
     "metadata": {},
     "output_type": "execute_result"
    }
   ],
   "source": [
    "# Add day of the week\n",
    "# 0-Monday, 1-Tuesday, 2-Wednesday, 3-Thursday, 4-Friday, 5-Saturday, 6-Sunday\n",
    "df_south['weekday'] = df_south['date'].dt.dayofweek\n",
    "df_south.groupby(df_south['weekday'])['total'].sum()"
   ]
  },
  {
   "cell_type": "code",
   "execution_count": 54,
   "metadata": {
    "scrolled": true
   },
   "outputs": [
    {
     "data": {
      "text/html": [
       "<div>\n",
       "<style scoped>\n",
       "    .dataframe tbody tr th:only-of-type {\n",
       "        vertical-align: middle;\n",
       "    }\n",
       "\n",
       "    .dataframe tbody tr th {\n",
       "        vertical-align: top;\n",
       "    }\n",
       "\n",
       "    .dataframe thead th {\n",
       "        text-align: right;\n",
       "    }\n",
       "</style>\n",
       "<table border=\"1\" class=\"dataframe\">\n",
       "  <thead>\n",
       "    <tr style=\"text-align: right;\">\n",
       "      <th></th>\n",
       "      <th>date</th>\n",
       "      <th>total</th>\n",
       "      <th>tmax</th>\n",
       "      <th>tmin</th>\n",
       "      <th>precip</th>\n",
       "      <th>snow</th>\n",
       "      <th>snowcover</th>\n",
       "      <th>weekday</th>\n",
       "    </tr>\n",
       "  </thead>\n",
       "  <tbody>\n",
       "    <tr>\n",
       "      <td>0</td>\n",
       "      <td>2016-01-01</td>\n",
       "      <td>80</td>\n",
       "      <td>39</td>\n",
       "      <td>3</td>\n",
       "      <td>0.00</td>\n",
       "      <td>0.00</td>\n",
       "      <td>3.0</td>\n",
       "      <td>4</td>\n",
       "    </tr>\n",
       "    <tr>\n",
       "      <td>1</td>\n",
       "      <td>2016-01-02</td>\n",
       "      <td>196</td>\n",
       "      <td>46</td>\n",
       "      <td>15</td>\n",
       "      <td>0.00</td>\n",
       "      <td>0.00</td>\n",
       "      <td>3.0</td>\n",
       "      <td>5</td>\n",
       "    </tr>\n",
       "    <tr>\n",
       "      <td>2</td>\n",
       "      <td>2016-01-03</td>\n",
       "      <td>726</td>\n",
       "      <td>50</td>\n",
       "      <td>19</td>\n",
       "      <td>0.00</td>\n",
       "      <td>0.00</td>\n",
       "      <td>3.0</td>\n",
       "      <td>6</td>\n",
       "    </tr>\n",
       "    <tr>\n",
       "      <td>3</td>\n",
       "      <td>2016-01-04</td>\n",
       "      <td>627</td>\n",
       "      <td>45</td>\n",
       "      <td>21</td>\n",
       "      <td>0.00</td>\n",
       "      <td>0.00</td>\n",
       "      <td>2.0</td>\n",
       "      <td>0</td>\n",
       "    </tr>\n",
       "    <tr>\n",
       "      <td>4</td>\n",
       "      <td>2016-01-05</td>\n",
       "      <td>142</td>\n",
       "      <td>51</td>\n",
       "      <td>23</td>\n",
       "      <td>0.00</td>\n",
       "      <td>0.00</td>\n",
       "      <td>2.0</td>\n",
       "      <td>1</td>\n",
       "    </tr>\n",
       "    <tr>\n",
       "      <td>...</td>\n",
       "      <td>...</td>\n",
       "      <td>...</td>\n",
       "      <td>...</td>\n",
       "      <td>...</td>\n",
       "      <td>...</td>\n",
       "      <td>...</td>\n",
       "      <td>...</td>\n",
       "      <td>...</td>\n",
       "    </tr>\n",
       "    <tr>\n",
       "      <td>1091</td>\n",
       "      <td>2018-12-27</td>\n",
       "      <td>197</td>\n",
       "      <td>34</td>\n",
       "      <td>18</td>\n",
       "      <td>0.01</td>\n",
       "      <td>0.01</td>\n",
       "      <td>0.0</td>\n",
       "      <td>3</td>\n",
       "    </tr>\n",
       "    <tr>\n",
       "      <td>1092</td>\n",
       "      <td>2018-12-28</td>\n",
       "      <td>120</td>\n",
       "      <td>23</td>\n",
       "      <td>13</td>\n",
       "      <td>0.01</td>\n",
       "      <td>0.01</td>\n",
       "      <td>0.0</td>\n",
       "      <td>4</td>\n",
       "    </tr>\n",
       "    <tr>\n",
       "      <td>1093</td>\n",
       "      <td>2018-12-29</td>\n",
       "      <td>114</td>\n",
       "      <td>37</td>\n",
       "      <td>5</td>\n",
       "      <td>0.01</td>\n",
       "      <td>0.01</td>\n",
       "      <td>0.0</td>\n",
       "      <td>5</td>\n",
       "    </tr>\n",
       "    <tr>\n",
       "      <td>1094</td>\n",
       "      <td>2018-12-30</td>\n",
       "      <td>178</td>\n",
       "      <td>50</td>\n",
       "      <td>21</td>\n",
       "      <td>0.00</td>\n",
       "      <td>0.00</td>\n",
       "      <td>0.0</td>\n",
       "      <td>6</td>\n",
       "    </tr>\n",
       "    <tr>\n",
       "      <td>1095</td>\n",
       "      <td>2018-12-31</td>\n",
       "      <td>83</td>\n",
       "      <td>42</td>\n",
       "      <td>9</td>\n",
       "      <td>0.13</td>\n",
       "      <td>2.60</td>\n",
       "      <td>3.0</td>\n",
       "      <td>0</td>\n",
       "    </tr>\n",
       "  </tbody>\n",
       "</table>\n",
       "<p>1096 rows × 8 columns</p>\n",
       "</div>"
      ],
      "text/plain": [
       "           date  total  tmax  tmin  precip  snow  snowcover  weekday\n",
       "0    2016-01-01     80    39     3    0.00  0.00        3.0        4\n",
       "1    2016-01-02    196    46    15    0.00  0.00        3.0        5\n",
       "2    2016-01-03    726    50    19    0.00  0.00        3.0        6\n",
       "3    2016-01-04    627    45    21    0.00  0.00        2.0        0\n",
       "4    2016-01-05    142    51    23    0.00  0.00        2.0        1\n",
       "...         ...    ...   ...   ...     ...   ...        ...      ...\n",
       "1091 2018-12-27    197    34    18    0.01  0.01        0.0        3\n",
       "1092 2018-12-28    120    23    13    0.01  0.01        0.0        4\n",
       "1093 2018-12-29    114    37     5    0.01  0.01        0.0        5\n",
       "1094 2018-12-30    178    50    21    0.00  0.00        0.0        6\n",
       "1095 2018-12-31     83    42     9    0.13  2.60        3.0        0\n",
       "\n",
       "[1096 rows x 8 columns]"
      ]
     },
     "execution_count": 54,
     "metadata": {},
     "output_type": "execute_result"
    }
   ],
   "source": [
    "df_south"
   ]
  },
  {
   "cell_type": "markdown",
   "metadata": {},
   "source": [
    "## The Effect of Zero's"
   ]
  },
  {
   "cell_type": "code",
   "execution_count": 55,
   "metadata": {},
   "outputs": [
    {
     "name": "stdout",
     "output_type": "stream",
     "text": [
      "Number of days with zero bikers: 0\n"
     ]
    }
   ],
   "source": [
    "zero_count = df_south[df_south['total'] == 0].shape[0]\n",
    "\n",
    "print('Number of days with zero bikers: {}'.format(zero_count))"
   ]
  },
  {
   "cell_type": "markdown",
   "metadata": {},
   "source": [
    "The dataset is free of zero counts which potentially indicates better reporting than at Bouldercreek."
   ]
  },
  {
   "cell_type": "markdown",
   "metadata": {},
   "source": [
    "## Outliers"
   ]
  },
  {
   "cell_type": "code",
   "execution_count": 56,
   "metadata": {
    "scrolled": true
   },
   "outputs": [
    {
     "name": "stdout",
     "output_type": "stream",
     "text": [
      "date         2016-11-09 00:00:00\n",
      "total                       1806\n",
      "tmax                          72\n",
      "tmin                          32\n",
      "precip                         0\n",
      "snow                           0\n",
      "snowcover                      0\n",
      "weekday                        2\n",
      "Name: 313, dtype: object\n",
      "date         2017-10-09 00:00:00\n",
      "total                       1719\n",
      "tmax                          52\n",
      "tmin                          31\n",
      "precip                      0.92\n",
      "snow                           6\n",
      "snowcover                      4\n",
      "weekday                        0\n",
      "Name: 647, dtype: object\n",
      "date         2018-09-09 00:00:00\n",
      "total                       1768\n",
      "tmax                          87\n",
      "tmin                          54\n",
      "precip                      0.01\n",
      "snow                           0\n",
      "snowcover                      0\n",
      "weekday                        6\n",
      "Name: 982, dtype: object\n"
     ]
    },
    {
     "data": {
      "text/html": [
       "<div>\n",
       "<style scoped>\n",
       "    .dataframe tbody tr th:only-of-type {\n",
       "        vertical-align: middle;\n",
       "    }\n",
       "\n",
       "    .dataframe tbody tr th {\n",
       "        vertical-align: top;\n",
       "    }\n",
       "\n",
       "    .dataframe thead th {\n",
       "        text-align: right;\n",
       "    }\n",
       "</style>\n",
       "<table border=\"1\" class=\"dataframe\">\n",
       "  <thead>\n",
       "    <tr style=\"text-align: right;\">\n",
       "      <th></th>\n",
       "      <th>total</th>\n",
       "      <th>tmax</th>\n",
       "      <th>tmin</th>\n",
       "      <th>precip</th>\n",
       "      <th>snow</th>\n",
       "      <th>snowcover</th>\n",
       "      <th>weekday</th>\n",
       "    </tr>\n",
       "    <tr>\n",
       "      <th>date</th>\n",
       "      <th></th>\n",
       "      <th></th>\n",
       "      <th></th>\n",
       "      <th></th>\n",
       "      <th></th>\n",
       "      <th></th>\n",
       "      <th></th>\n",
       "    </tr>\n",
       "  </thead>\n",
       "  <tbody>\n",
       "    <tr>\n",
       "      <td>2016-01-01</td>\n",
       "      <td>80</td>\n",
       "      <td>39</td>\n",
       "      <td>3</td>\n",
       "      <td>0.00</td>\n",
       "      <td>0.00</td>\n",
       "      <td>3.0</td>\n",
       "      <td>4</td>\n",
       "    </tr>\n",
       "    <tr>\n",
       "      <td>2016-01-02</td>\n",
       "      <td>196</td>\n",
       "      <td>46</td>\n",
       "      <td>15</td>\n",
       "      <td>0.00</td>\n",
       "      <td>0.00</td>\n",
       "      <td>3.0</td>\n",
       "      <td>5</td>\n",
       "    </tr>\n",
       "    <tr>\n",
       "      <td>2016-01-03</td>\n",
       "      <td>726</td>\n",
       "      <td>50</td>\n",
       "      <td>19</td>\n",
       "      <td>0.00</td>\n",
       "      <td>0.00</td>\n",
       "      <td>3.0</td>\n",
       "      <td>6</td>\n",
       "    </tr>\n",
       "    <tr>\n",
       "      <td>2016-01-04</td>\n",
       "      <td>627</td>\n",
       "      <td>45</td>\n",
       "      <td>21</td>\n",
       "      <td>0.00</td>\n",
       "      <td>0.00</td>\n",
       "      <td>2.0</td>\n",
       "      <td>0</td>\n",
       "    </tr>\n",
       "    <tr>\n",
       "      <td>2016-01-05</td>\n",
       "      <td>142</td>\n",
       "      <td>51</td>\n",
       "      <td>23</td>\n",
       "      <td>0.00</td>\n",
       "      <td>0.00</td>\n",
       "      <td>2.0</td>\n",
       "      <td>1</td>\n",
       "    </tr>\n",
       "    <tr>\n",
       "      <td>...</td>\n",
       "      <td>...</td>\n",
       "      <td>...</td>\n",
       "      <td>...</td>\n",
       "      <td>...</td>\n",
       "      <td>...</td>\n",
       "      <td>...</td>\n",
       "      <td>...</td>\n",
       "    </tr>\n",
       "    <tr>\n",
       "      <td>2018-12-27</td>\n",
       "      <td>197</td>\n",
       "      <td>34</td>\n",
       "      <td>18</td>\n",
       "      <td>0.01</td>\n",
       "      <td>0.01</td>\n",
       "      <td>0.0</td>\n",
       "      <td>3</td>\n",
       "    </tr>\n",
       "    <tr>\n",
       "      <td>2018-12-28</td>\n",
       "      <td>120</td>\n",
       "      <td>23</td>\n",
       "      <td>13</td>\n",
       "      <td>0.01</td>\n",
       "      <td>0.01</td>\n",
       "      <td>0.0</td>\n",
       "      <td>4</td>\n",
       "    </tr>\n",
       "    <tr>\n",
       "      <td>2018-12-29</td>\n",
       "      <td>114</td>\n",
       "      <td>37</td>\n",
       "      <td>5</td>\n",
       "      <td>0.01</td>\n",
       "      <td>0.01</td>\n",
       "      <td>0.0</td>\n",
       "      <td>5</td>\n",
       "    </tr>\n",
       "    <tr>\n",
       "      <td>2018-12-30</td>\n",
       "      <td>178</td>\n",
       "      <td>50</td>\n",
       "      <td>21</td>\n",
       "      <td>0.00</td>\n",
       "      <td>0.00</td>\n",
       "      <td>0.0</td>\n",
       "      <td>6</td>\n",
       "    </tr>\n",
       "    <tr>\n",
       "      <td>2018-12-31</td>\n",
       "      <td>83</td>\n",
       "      <td>42</td>\n",
       "      <td>9</td>\n",
       "      <td>0.13</td>\n",
       "      <td>2.60</td>\n",
       "      <td>3.0</td>\n",
       "      <td>0</td>\n",
       "    </tr>\n",
       "  </tbody>\n",
       "</table>\n",
       "<p>1093 rows × 7 columns</p>\n",
       "</div>"
      ],
      "text/plain": [
       "            total  tmax  tmin  precip  snow  snowcover  weekday\n",
       "date                                                           \n",
       "2016-01-01     80    39     3    0.00  0.00        3.0        4\n",
       "2016-01-02    196    46    15    0.00  0.00        3.0        5\n",
       "2016-01-03    726    50    19    0.00  0.00        3.0        6\n",
       "2016-01-04    627    45    21    0.00  0.00        2.0        0\n",
       "2016-01-05    142    51    23    0.00  0.00        2.0        1\n",
       "...           ...   ...   ...     ...   ...        ...      ...\n",
       "2018-12-27    197    34    18    0.01  0.01        0.0        3\n",
       "2018-12-28    120    23    13    0.01  0.01        0.0        4\n",
       "2018-12-29    114    37     5    0.01  0.01        0.0        5\n",
       "2018-12-30    178    50    21    0.00  0.00        0.0        6\n",
       "2018-12-31     83    42     9    0.13  2.60        3.0        0\n",
       "\n",
       "[1093 rows x 7 columns]"
      ]
     },
     "execution_count": 56,
     "metadata": {},
     "output_type": "execute_result"
    }
   ],
   "source": [
    "# Filter Outliers\n",
    "tmp = df_south[(np.abs(stats.zscore(df_south['total'])) < 3)]\n",
    "\n",
    "# What was removed\n",
    "removed = df_south.index.difference(tmp.index)\n",
    "\n",
    "for i in removed:\n",
    "    print(df_south.loc[i])\n",
    "    \n",
    "df_south_clean = tmp\n",
    "df_south_clean.reset_index(inplace=True, drop=True)\n",
    "df_south_clean.set_index('date', inplace=True)\n",
    "\n",
    "df_south_clean"
   ]
  },
  {
   "cell_type": "markdown",
   "metadata": {},
   "source": [
    "## Looking For Trends"
   ]
  },
  {
   "cell_type": "code",
   "execution_count": 57,
   "metadata": {
    "scrolled": false
   },
   "outputs": [
    {
     "data": {
      "text/html": [
       "<div>\n",
       "<style scoped>\n",
       "    .dataframe tbody tr th:only-of-type {\n",
       "        vertical-align: middle;\n",
       "    }\n",
       "\n",
       "    .dataframe tbody tr th {\n",
       "        vertical-align: top;\n",
       "    }\n",
       "\n",
       "    .dataframe thead th {\n",
       "        text-align: right;\n",
       "    }\n",
       "</style>\n",
       "<table border=\"1\" class=\"dataframe\">\n",
       "  <thead>\n",
       "    <tr style=\"text-align: right;\">\n",
       "      <th></th>\n",
       "      <th>total</th>\n",
       "      <th>tmax</th>\n",
       "      <th>tmin</th>\n",
       "      <th>precip</th>\n",
       "      <th>snow</th>\n",
       "      <th>snowcover</th>\n",
       "      <th>weekday</th>\n",
       "    </tr>\n",
       "  </thead>\n",
       "  <tbody>\n",
       "    <tr>\n",
       "      <td>total</td>\n",
       "      <td>1.000000</td>\n",
       "      <td>0.426521</td>\n",
       "      <td>0.381367</td>\n",
       "      <td>-0.204371</td>\n",
       "      <td>-0.215515</td>\n",
       "      <td>-0.232430</td>\n",
       "      <td>-0.209900</td>\n",
       "    </tr>\n",
       "    <tr>\n",
       "      <td>tmax</td>\n",
       "      <td>0.426521</td>\n",
       "      <td>1.000000</td>\n",
       "      <td>0.894375</td>\n",
       "      <td>-0.166197</td>\n",
       "      <td>-0.285434</td>\n",
       "      <td>-0.444921</td>\n",
       "      <td>0.001000</td>\n",
       "    </tr>\n",
       "    <tr>\n",
       "      <td>tmin</td>\n",
       "      <td>0.381367</td>\n",
       "      <td>0.894375</td>\n",
       "      <td>1.000000</td>\n",
       "      <td>-0.038935</td>\n",
       "      <td>-0.223760</td>\n",
       "      <td>-0.425936</td>\n",
       "      <td>-0.015196</td>\n",
       "    </tr>\n",
       "    <tr>\n",
       "      <td>precip</td>\n",
       "      <td>-0.204371</td>\n",
       "      <td>-0.166197</td>\n",
       "      <td>-0.038935</td>\n",
       "      <td>1.000000</td>\n",
       "      <td>0.606519</td>\n",
       "      <td>0.377311</td>\n",
       "      <td>-0.013189</td>\n",
       "    </tr>\n",
       "    <tr>\n",
       "      <td>snow</td>\n",
       "      <td>-0.215515</td>\n",
       "      <td>-0.285434</td>\n",
       "      <td>-0.223760</td>\n",
       "      <td>0.606519</td>\n",
       "      <td>1.000000</td>\n",
       "      <td>0.703209</td>\n",
       "      <td>0.019901</td>\n",
       "    </tr>\n",
       "    <tr>\n",
       "      <td>snowcover</td>\n",
       "      <td>-0.232430</td>\n",
       "      <td>-0.444921</td>\n",
       "      <td>-0.425936</td>\n",
       "      <td>0.377311</td>\n",
       "      <td>0.703209</td>\n",
       "      <td>1.000000</td>\n",
       "      <td>0.024489</td>\n",
       "    </tr>\n",
       "    <tr>\n",
       "      <td>weekday</td>\n",
       "      <td>-0.209900</td>\n",
       "      <td>0.001000</td>\n",
       "      <td>-0.015196</td>\n",
       "      <td>-0.013189</td>\n",
       "      <td>0.019901</td>\n",
       "      <td>0.024489</td>\n",
       "      <td>1.000000</td>\n",
       "    </tr>\n",
       "  </tbody>\n",
       "</table>\n",
       "</div>"
      ],
      "text/plain": [
       "              total      tmax      tmin    precip      snow  snowcover  \\\n",
       "total      1.000000  0.426521  0.381367 -0.204371 -0.215515  -0.232430   \n",
       "tmax       0.426521  1.000000  0.894375 -0.166197 -0.285434  -0.444921   \n",
       "tmin       0.381367  0.894375  1.000000 -0.038935 -0.223760  -0.425936   \n",
       "precip    -0.204371 -0.166197 -0.038935  1.000000  0.606519   0.377311   \n",
       "snow      -0.215515 -0.285434 -0.223760  0.606519  1.000000   0.703209   \n",
       "snowcover -0.232430 -0.444921 -0.425936  0.377311  0.703209   1.000000   \n",
       "weekday   -0.209900  0.001000 -0.015196 -0.013189  0.019901   0.024489   \n",
       "\n",
       "            weekday  \n",
       "total     -0.209900  \n",
       "tmax       0.001000  \n",
       "tmin      -0.015196  \n",
       "precip    -0.013189  \n",
       "snow       0.019901  \n",
       "snowcover  0.024489  \n",
       "weekday    1.000000  "
      ]
     },
     "execution_count": 57,
     "metadata": {},
     "output_type": "execute_result"
    }
   ],
   "source": [
    "## Correlation\n",
    "df_south_clean.corr()"
   ]
  },
  {
   "cell_type": "markdown",
   "metadata": {},
   "source": [
    "# Folsom & Boulder Creek MLR"
   ]
  },
  {
   "cell_type": "code",
   "execution_count": 58,
   "metadata": {},
   "outputs": [],
   "source": [
    "scaler = preprocessing.StandardScaler()\n",
    "\n",
    "scaled_df_bouldercreek = df_bouldercreek_clean.drop(['tmin', 'snowcover', 'snow', 'precip', 'date'], axis=1)\n",
    "\n",
    "scaled_df_bouldercreek = scaler.fit_transform(scaled_df_bouldercreek)\n",
    "scaled_df_bouldercreek = pd.DataFrame(scaled_df_bouldercreek, columns=(['total', 'tmax', 'dayofweek']))"
   ]
  },
  {
   "cell_type": "code",
   "execution_count": 59,
   "metadata": {},
   "outputs": [
    {
     "data": {
      "image/png": "[encoded data removed]",
      "text/plain": [
       "<Figure size 1440x864 with 1 Axes>"
      ]
     },
     "metadata": {},
     "output_type": "display_data"
    }
   ],
   "source": [
    "bins = np.linspace(-2, 4, 50)\n",
    "fontsize = 20\n",
    "titlesize = 25\n",
    "\n",
    "plt.figure(figsize=(20,12))\n",
    "\n",
    "plt.title('Standardized Bicycle Counts and Daily Max - Folsom & Boulder Creek', fontsize=titlesize)\n",
    "plt.xlabel('Value', fontsize=fontsize)\n",
    "plt.ylabel('Frequency', fontsize=fontsize)\n",
    "\n",
    "plt.hist(scaled_df_bouldercreek['total'], bins, alpha=0.5, edgecolor='black', label='Count')\n",
    "plt.hist(scaled_df_bouldercreek['tmax'], bins, alpha=0.5, edgecolor='black', label='Daily Temperature Max')\n",
    "# plt.hist(scaled_df_south['dayofweek'], bins, alpha=0.5, edgecolor='black', label='Day of Week')\n",
    "\n",
    "plt.legend(loc='upper right')\n",
    "plt.show()"
   ]
  },
  {
   "cell_type": "code",
   "execution_count": 60,
   "metadata": {},
   "outputs": [
    {
     "name": "stdout",
     "output_type": "stream",
     "text": [
      "0.5335209244417082 -0.3878455980825411\n"
     ]
    }
   ],
   "source": [
    "bike_skew = skew(scaled_df_bouldercreek['total'])\n",
    "temp_skew = skew(scaled_df_bouldercreek['tmax'])\n",
    "print(bike_skew, temp_skew)"
   ]
  },
  {
   "cell_type": "markdown",
   "metadata": {},
   "source": [
    "## Modeling"
   ]
  },
  {
   "cell_type": "code",
   "execution_count": 61,
   "metadata": {},
   "outputs": [],
   "source": [
    "# Input and output of the model (X, Y)\n",
    "X = df_bouldercreek_clean[['tmax', 'dayofweek']]\n",
    "Y = df_bouldercreek_clean[['total']]\n",
    "\n",
    "X_train, X_test, y_train, y_test = train_test_split(X, Y, test_size=0.20, random_state=1)"
   ]
  },
  {
   "cell_type": "code",
   "execution_count": 62,
   "metadata": {},
   "outputs": [
    {
     "name": "stdout",
     "output_type": "stream",
     "text": [
      "The intercept for the model is: 228.12121130122335\n",
      "The coefficient for the model is: 8.6\n"
     ]
    }
   ],
   "source": [
    "model_LR = LinearRegression()\n",
    "model_LR.fit(X_train, y_train)\n",
    "\n",
    "intercept = model_LR.intercept_[0]\n",
    "coefficient = model_LR.coef_[0][0]\n",
    "\n",
    "print('The intercept for the model is: {:2}'.format(intercept))\n",
    "print('The coefficient for the model is: {:.2}'.format(coefficient))"
   ]
  },
  {
   "cell_type": "code",
   "execution_count": 63,
   "metadata": {},
   "outputs": [
    {
     "data": {
      "text/plain": [
       "array([[334.36583808],\n",
       "       [420.63652335],\n",
       "       [517.34748012],\n",
       "       [446.51772894],\n",
       "       [483.74580749]])"
      ]
     },
     "execution_count": 63,
     "metadata": {},
     "output_type": "execute_result"
    }
   ],
   "source": [
    "y_predict = model_LR.predict(X_test)\n",
    "\n",
    "y_predict[:5]"
   ]
  },
  {
   "cell_type": "code",
   "execution_count": 64,
   "metadata": {},
   "outputs": [
    {
     "name": "stdout",
     "output_type": "stream",
     "text": [
      "MAE: 261.7027046961581\n",
      "MSE: 114813.79490176229\n",
      "RMSE: 338.8418434930407\n"
     ]
    }
   ],
   "source": [
    "# Calculate mean absolute error\n",
    "model_mae = mean_absolute_error(y_test, y_predict)\n",
    "\n",
    "# Calculate the mean squared error\n",
    "model_mse = mean_squared_error(y_test, y_predict)\n",
    "\n",
    "# Calculate the root mean squared error\n",
    "model_rmse = math.sqrt(model_mse)\n",
    "\n",
    "print('MAE: {}'.format(model_mae))\n",
    "print('MSE: {}'.format(model_mse))\n",
    "print('RMSE: {}'.format(model_rmse))"
   ]
  },
  {
   "cell_type": "code",
   "execution_count": 65,
   "metadata": {},
   "outputs": [
    {
     "name": "stdout",
     "output_type": "stream",
     "text": [
      "R2: 0.19896890170539794\n"
     ]
    }
   ],
   "source": [
    "model_r2 = r2_score(y_test, y_predict)\n",
    "print('R2: {}'.format(model_r2))"
   ]
  },
  {
   "cell_type": "code",
   "execution_count": 66,
   "metadata": {},
   "outputs": [
    {
     "data": {
      "image/png": "[encoded data removed]",
      "text/plain": [
       "<Figure size 864x576 with 1 Axes>"
      ]
     },
     "metadata": {},
     "output_type": "display_data"
    }
   ],
   "source": [
    "fig, ax = plt.subplots(figsize=(12,8))\n",
    "plt.scatter(X_test['tmax'], y_test, color='gray', alpha=0.25, label='Bike Count')\n",
    "plt.scatter(X_test['tmax'], y_predict, color='steelblue', label='Regression Line')\n",
    "\n",
    "plt.title('MLR Model Tmax + Day of the Week vs. Bike Count')\n",
    "plt.xlabel('Tmax')\n",
    "plt.ylabel('Bike Count')\n",
    "plt.legend()\n",
    "plt.show()"
   ]
  },
  {
   "cell_type": "code",
   "execution_count": 67,
   "metadata": {},
   "outputs": [
    {
     "data": {
      "text/plain": [
       "<matplotlib.legend.Legend at 0x21ac6489d08>"
      ]
     },
     "execution_count": 67,
     "metadata": {},
     "output_type": "execute_result"
    },
    {
     "data": {
      "image/png": "[encoded data removed]",
      "text/plain": [
       "<Figure size 1008x648 with 1 Axes>"
      ]
     },
     "metadata": {},
     "output_type": "display_data"
    }
   ],
   "source": [
    "residuals = y_test-y_predict\n",
    "\n",
    "fig = sns.distplot(residuals, bins=25, kde=False, rug=True)\n",
    "\n",
    "fig.axvline(x=residuals['total'].mean(), color='black', linestyle='--', label='Mean: {:.4}'.format(residuals['total'].mean()))\n",
    "std = np.std(residuals['total'])\n",
    "# fig.axvline(x=std, color='red', linestyle='--', label='1 STD')\n",
    "# fig.axvline(x=-std, color='red', linestyle='--')\n",
    "\n",
    "x_ticks = np.arange(-800, 1300, step=100)\n",
    "plt.xticks(x_ticks, rotation=270)\n",
    "\n",
    "plt.grid(alpha=1)\n",
    "\n",
    "plt.title('MLR Residuals - Tmax, dayofweek', fontsize=22)\n",
    "plt.xlabel('Inaccuracy', fontsize=18)\n",
    "plt.ylabel('Frequency', fontsize=18)\n",
    "plt.legend(loc='upper right', fontsize=16)"
   ]
  },
  {
   "cell_type": "code",
   "execution_count": null,
   "metadata": {},
   "outputs": [],
   "source": []
  }
 ],
 "metadata": {
  "kernelspec": {
   "display_name": "Python 3",
   "language": "python",
   "name": "python3"
  },
  "language_info": {
   "codemirror_mode": {
    "name": "ipython",
    "version": 3
   },
   "file_extension": ".py",
   "mimetype": "text/x-python",
   "name": "python",
   "nbconvert_exporter": "python",
   "pygments_lexer": "ipython3",
   "version": "3.7.4"
  }
 },
 "nbformat": 4,
 "nbformat_minor": 2
}
